{
 "cells": [
  {
   "cell_type": "markdown",
   "id": "6f5890de",
   "metadata": {},
   "source": [
    "# ДЗ 1. Логистическая регрессия"
   ]
  },
  {
   "cell_type": "code",
   "execution_count": 2,
   "id": "77d0c6d4",
   "metadata": {},
   "outputs": [],
   "source": [
    "import numpy as np\n",
    "import pandas as pd"
   ]
  },
  {
   "cell_type": "markdown",
   "id": "c2ad28ac",
   "metadata": {},
   "source": [
    "##### Читаем датасет"
   ]
  },
  {
   "cell_type": "code",
   "execution_count": 3,
   "id": "f802d120",
   "metadata": {},
   "outputs": [
    {
     "name": "stdout",
     "output_type": "stream",
     "text": [
      "<class 'pandas.core.frame.DataFrame'>\n",
      "RangeIndex: 52584 entries, 0 to 52583\n",
      "Data columns (total 17 columns):\n",
      " #   Column         Non-Null Count  Dtype  \n",
      "---  ------         --------------  -----  \n",
      " 0   No             52584 non-null  int64  \n",
      " 1   year           52584 non-null  int64  \n",
      " 2   month          52584 non-null  int64  \n",
      " 3   day            52584 non-null  int64  \n",
      " 4   hour           52584 non-null  int64  \n",
      " 5   season         52584 non-null  int64  \n",
      " 6   PM_Jingan      24700 non-null  float64\n",
      " 7   PM_US Post     34039 non-null  float64\n",
      " 8   PM_Xuhui       25189 non-null  float64\n",
      " 9   DEWP           52571 non-null  float64\n",
      " 10  HUMI           52571 non-null  float64\n",
      " 11  PRES           52556 non-null  float64\n",
      " 12  TEMP           52571 non-null  float64\n",
      " 13  cbwd           52572 non-null  object \n",
      " 14  Iws            52572 non-null  float64\n",
      " 15  precipitation  48575 non-null  float64\n",
      " 16  Iprec          48575 non-null  float64\n",
      "dtypes: float64(10), int64(6), object(1)\n",
      "memory usage: 6.8+ MB\n"
     ]
    }
   ],
   "source": [
    "data = pd.read_csv('Shanghai_HMT_2010.csv')\n",
    "# Проверим данные\n",
    "data.info()"
   ]
  },
  {
   "cell_type": "markdown",
   "id": "d3867608",
   "metadata": {},
   "source": [
    "##### Выбрасываем все NaN'ы"
   ]
  },
  {
   "cell_type": "code",
   "execution_count": 4,
   "id": "507f70f8",
   "metadata": {},
   "outputs": [],
   "source": [
    "data = data.dropna() \n",
    "# Проверим данные\n",
    "# data.info()"
   ]
  },
  {
   "cell_type": "markdown",
   "id": "20bb4b83",
   "metadata": {},
   "source": [
    "##### Остались категориальные признаки - дропнем их тоже"
   ]
  },
  {
   "cell_type": "code",
   "execution_count": 5,
   "id": "ffcf9bea",
   "metadata": {},
   "outputs": [
    {
     "name": "stdout",
     "output_type": "stream",
     "text": [
      "<class 'pandas.core.frame.DataFrame'>\n",
      "Int64Index: 21436 entries, 26304 to 52582\n",
      "Data columns (total 16 columns):\n",
      " #   Column         Non-Null Count  Dtype  \n",
      "---  ------         --------------  -----  \n",
      " 0   No             21436 non-null  int64  \n",
      " 1   year           21436 non-null  int64  \n",
      " 2   month          21436 non-null  int64  \n",
      " 3   day            21436 non-null  int64  \n",
      " 4   hour           21436 non-null  int64  \n",
      " 5   season         21436 non-null  int64  \n",
      " 6   PM_Jingan      21436 non-null  float64\n",
      " 7   PM_US Post     21436 non-null  float64\n",
      " 8   PM_Xuhui       21436 non-null  float64\n",
      " 9   DEWP           21436 non-null  float64\n",
      " 10  HUMI           21436 non-null  float64\n",
      " 11  PRES           21436 non-null  float64\n",
      " 12  TEMP           21436 non-null  float64\n",
      " 13  Iws            21436 non-null  float64\n",
      " 14  precipitation  21436 non-null  float64\n",
      " 15  Iprec          21436 non-null  float64\n",
      "dtypes: float64(10), int64(6)\n",
      "memory usage: 2.8 MB\n"
     ]
    }
   ],
   "source": [
    "data = data.drop(['cbwd'], axis=1)\n",
    "# Проверим данные\n",
    "data.info()"
   ]
  },
  {
   "cell_type": "markdown",
   "id": "fb1fae09",
   "metadata": {},
   "source": [
    "##### Нормализация"
   ]
  },
  {
   "cell_type": "code",
   "execution_count": 6,
   "id": "59ca4f6d",
   "metadata": {},
   "outputs": [],
   "source": [
    "data = (data - data.mean()) / data.std()"
   ]
  },
  {
   "cell_type": "markdown",
   "id": "e2462ff6",
   "metadata": {},
   "source": [
    "##### Разобъем данные на два класса по давлению - больше медианы (класс 1) и меньше ее (класс 0)"
   ]
  },
  {
   "cell_type": "code",
   "execution_count": 7,
   "id": "9b3c152e",
   "metadata": {},
   "outputs": [
    {
     "data": {
      "text/plain": [
       "-0.00668796382473264"
      ]
     },
     "execution_count": 7,
     "metadata": {},
     "output_type": "execute_result"
    }
   ],
   "source": [
    "pres_median = data['PRES'].median()\n",
    "pres_median"
   ]
  },
  {
   "cell_type": "code",
   "execution_count": 8,
   "id": "0d962c09",
   "metadata": {},
   "outputs": [],
   "source": [
    "data['PRES'] = (data['PRES'] > pres_median).astype('int64')"
   ]
  },
  {
   "cell_type": "code",
   "execution_count": 9,
   "id": "cf56383a",
   "metadata": {},
   "outputs": [],
   "source": [
    "# data.to_csv('data.csv')"
   ]
  },
  {
   "cell_type": "markdown",
   "id": "d0d7af9a",
   "metadata": {},
   "source": [
    "## Сравним обучение на кастомном классе логистической регрессии и из sklearn"
   ]
  },
  {
   "cell_type": "markdown",
   "id": "df7cfd74",
   "metadata": {},
   "source": [
    "###  Начнем с sklearn"
   ]
  },
  {
   "cell_type": "markdown",
   "id": "1d0fa121",
   "metadata": {},
   "source": [
    "##### Разбиваем данные на тест и трейн"
   ]
  },
  {
   "cell_type": "code",
   "execution_count": 10,
   "id": "b4d09916",
   "metadata": {},
   "outputs": [
    {
     "name": "stdout",
     "output_type": "stream",
     "text": [
      "accuracy = 0.9221091320327962\n"
     ]
    }
   ],
   "source": [
    "from sklearn.model_selection import train_test_split\n",
    "from sklearn.linear_model import LogisticRegression\n",
    "from sklearn.metrics import mean_squared_error, roc_auc_score\n",
    "\n",
    "X = data.drop(['PRES'], axis=1)\n",
    "y = data['PRES']\n",
    "\n",
    "# установим random_state, чтобы результаты эксперимента были воспроизводимы\n",
    "X_train, X_test, y_train, y_test = train_test_split(X, y, test_size=0.33, random_state=42)\n",
    "\n",
    "model = LogisticRegression()\n",
    "\n",
    "model.fit(X_train, y_train)\n",
    "\n",
    "predictions_lr = model.predict(X_test)\n",
    "\n",
    "err = sum(predictions_lr == y_test) / len(y_test)  # accuracy\n",
    "\n",
    "print(\"accuracy =\", err)"
   ]
  },
  {
   "cell_type": "markdown",
   "id": "b4511920",
   "metadata": {},
   "source": [
    "#####  Коэффициенты модели"
   ]
  },
  {
   "cell_type": "code",
   "execution_count": 11,
   "id": "6c974bd0",
   "metadata": {},
   "outputs": [
    {
     "data": {
      "text/plain": [
       "array([[ 0.27968073, -0.10891684,  1.63240662,  0.30364664,  0.08925376,\n",
       "         0.75141337, -0.51767906, -0.11853035,  0.49529419, -0.62644594,\n",
       "        -1.11960903, -4.28958965, -0.17161046, -0.14383498, -0.07903136]])"
      ]
     },
     "execution_count": 11,
     "metadata": {},
     "output_type": "execute_result"
    }
   ],
   "source": [
    "model.coef_"
   ]
  },
  {
   "cell_type": "markdown",
   "id": "a5e6b6a2",
   "metadata": {},
   "source": [
    "###  Далее посмотрим на результаты реализованного класса"
   ]
  },
  {
   "cell_type": "markdown",
   "id": "a0a79852",
   "metadata": {},
   "source": [
    "##### Разбиваем данные на тест и трейн"
   ]
  },
  {
   "cell_type": "code",
   "execution_count": 12,
   "id": "a8997ae1",
   "metadata": {},
   "outputs": [
    {
     "ename": "ModuleNotFoundError",
     "evalue": "No module named 'torch'",
     "output_type": "error",
     "traceback": [
      "\u001b[0;31m---------------------------------------------------------------------------\u001b[0m",
      "\u001b[0;31mModuleNotFoundError\u001b[0m                       Traceback (most recent call last)",
      "\u001b[0;32m<ipython-input-12-43cbdec01473>\u001b[0m in \u001b[0;36m<module>\u001b[0;34m\u001b[0m\n\u001b[0;32m----> 1\u001b[0;31m \u001b[0;32mimport\u001b[0m \u001b[0mtorch\u001b[0m \u001b[0;32mas\u001b[0m \u001b[0mT\u001b[0m\u001b[0;34m\u001b[0m\u001b[0;34m\u001b[0m\u001b[0m\n\u001b[0m\u001b[1;32m      2\u001b[0m \u001b[0;32mfrom\u001b[0m \u001b[0mlr\u001b[0m \u001b[0;32mimport\u001b[0m \u001b[0mMyLogisticRegression\u001b[0m\u001b[0;34m\u001b[0m\u001b[0;34m\u001b[0m\u001b[0m\n\u001b[1;32m      3\u001b[0m \u001b[0;34m\u001b[0m\u001b[0m\n\u001b[1;32m      4\u001b[0m \u001b[0mX\u001b[0m \u001b[0;34m=\u001b[0m \u001b[0mdata\u001b[0m\u001b[0;34m.\u001b[0m\u001b[0mdrop\u001b[0m\u001b[0;34m(\u001b[0m\u001b[0;34m[\u001b[0m\u001b[0;34m'PRES'\u001b[0m\u001b[0;34m]\u001b[0m\u001b[0;34m,\u001b[0m \u001b[0maxis\u001b[0m\u001b[0;34m=\u001b[0m\u001b[0;36m1\u001b[0m\u001b[0;34m)\u001b[0m\u001b[0;34m\u001b[0m\u001b[0;34m\u001b[0m\u001b[0m\n\u001b[1;32m      5\u001b[0m \u001b[0my\u001b[0m \u001b[0;34m=\u001b[0m \u001b[0mdata\u001b[0m\u001b[0;34m[\u001b[0m\u001b[0;34m'PRES'\u001b[0m\u001b[0;34m]\u001b[0m\u001b[0;34m\u001b[0m\u001b[0;34m\u001b[0m\u001b[0m\n",
      "\u001b[0;31mModuleNotFoundError\u001b[0m: No module named 'torch'"
     ]
    }
   ],
   "source": [
    "import torch as T\n",
    "from lr import MyLogisticRegression\n",
    "\n",
    "X = data.drop(['PRES'], axis=1)\n",
    "y = data['PRES']\n",
    "\n",
    "# установим random_state, чтобы результаты эксперимента были воспроизводимы\n",
    "X_train, X_test, y_train, y_test = train_test_split(X, y, test_size=0.33, random_state=42)\n"
   ]
  },
  {
   "cell_type": "code",
   "execution_count": 13,
   "id": "bd9ff623",
   "metadata": {},
   "outputs": [
    {
     "ename": "ModuleNotFoundError",
     "evalue": "No module named 'torch'",
     "output_type": "error",
     "traceback": [
      "\u001b[0;31m---------------------------------------------------------------------------\u001b[0m",
      "\u001b[0;31mModuleNotFoundError\u001b[0m                       Traceback (most recent call last)",
      "\u001b[0;32m<ipython-input-13-414144362cc5>\u001b[0m in \u001b[0;36m<module>\u001b[0;34m\u001b[0m\n\u001b[0;32m----> 1\u001b[0;31m \u001b[0;32mimport\u001b[0m \u001b[0mtorch\u001b[0m\u001b[0;34m\u001b[0m\u001b[0;34m\u001b[0m\u001b[0m\n\u001b[0m\u001b[1;32m      2\u001b[0m \u001b[0mtorch\u001b[0m\u001b[0;34m.\u001b[0m\u001b[0m__version__\u001b[0m\u001b[0;34m\u001b[0m\u001b[0;34m\u001b[0m\u001b[0m\n",
      "\u001b[0;31mModuleNotFoundError\u001b[0m: No module named 'torch'"
     ]
    }
   ],
   "source": [
    "import torch\n",
    "torch.__version__"
   ]
  },
  {
   "cell_type": "markdown",
   "id": "1e4582cd",
   "metadata": {},
   "source": [
    "\n",
    "##### Превратим в numpy - после чего в тензоры"
   ]
  },
  {
   "cell_type": "code",
   "execution_count": null,
   "id": "3aa69003",
   "metadata": {},
   "outputs": [],
   "source": [
    "device = 'cpu'\n",
    "\n",
    "X_train = X_train.to_numpy()\n",
    "y_train = y_train.to_numpy()\n",
    "X_test = X_test.to_numpy()\n",
    "y_test = y_test.to_numpy()\n",
    "\n",
    "X_train = T.tensor(X_train, dtype=T.float32).to(device)\n",
    "y_train = T.tensor(y_train, dtype=T.long).to(device)\n",
    "X_test = T.tensor(X_test, dtype=T.float32).to(device)\n",
    "y_test = T.tensor(y_test, dtype=T.long).to(device)\n",
    "\n",
    "\n",
    "\n",
    "num_of_features = X_train.size()[1]\n",
    "# y_train.size()\n",
    "# len(X_train)"
   ]
  },
  {
   "cell_type": "code",
   "execution_count": null,
   "id": "c874aad4",
   "metadata": {},
   "outputs": [],
   "source": [
    "\n",
    "\n",
    "my_lr = MyLogisticRegression(device, num_of_features)\n",
    "\n",
    "lrn_rate = 0.0001\n",
    "indices = np.arange(len(X_train))\n",
    "\n",
    "w, b = my_lr.fit(\n",
    "    X_train,\n",
    "    y_train,\n",
    "    lrn_rate,\n",
    "    indices,\n",
    "    100,\n",
    "    0)"
   ]
  },
  {
   "cell_type": "code",
   "execution_count": null,
   "id": "401241fb",
   "metadata": {},
   "outputs": [],
   "source": [
    "predictions_my = my_lr.predict(X_test)"
   ]
  },
  {
   "cell_type": "code",
   "execution_count": null,
   "id": "468bb4e1",
   "metadata": {},
   "outputs": [],
   "source": [
    "err = mean_squared_error(predictions_my, y_test)\n",
    "print(\"mean_squared_error =\", err)"
   ]
  }
 ],
 "metadata": {
  "kernelspec": {
   "display_name": "Python 3",
   "language": "python",
   "name": "python3"
  },
  "language_info": {
   "codemirror_mode": {
    "name": "ipython",
    "version": 3
   },
   "file_extension": ".py",
   "mimetype": "text/x-python",
   "name": "python",
   "nbconvert_exporter": "python",
   "pygments_lexer": "ipython3",
   "version": "3.8.10"
  }
 },
 "nbformat": 4,
 "nbformat_minor": 5
}
