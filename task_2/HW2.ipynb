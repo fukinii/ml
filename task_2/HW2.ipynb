{
 "cells": [
  {
   "cell_type": "markdown",
   "id": "6f5890de",
   "metadata": {},
   "source": [
    "# ДЗ 1. Линейная регрессия"
   ]
  },
  {
   "cell_type": "code",
   "execution_count": 1,
   "id": "77d0c6d4",
   "metadata": {},
   "outputs": [],
   "source": [
    "import numpy as np\n",
    "import pandas as pd"
   ]
  },
  {
   "cell_type": "markdown",
   "id": "c2ad28ac",
   "metadata": {},
   "source": [
    "##### Читаем датасет"
   ]
  },
  {
   "cell_type": "code",
   "execution_count": 2,
   "id": "f802d120",
   "metadata": {},
   "outputs": [
    {
     "name": "stdout",
     "output_type": "stream",
     "text": [
      "<class 'pandas.core.frame.DataFrame'>\n",
      "RangeIndex: 52584 entries, 0 to 52583\n",
      "Data columns (total 17 columns):\n",
      " #   Column         Non-Null Count  Dtype  \n",
      "---  ------         --------------  -----  \n",
      " 0   No             52584 non-null  int64  \n",
      " 1   year           52584 non-null  int64  \n",
      " 2   month          52584 non-null  int64  \n",
      " 3   day            52584 non-null  int64  \n",
      " 4   hour           52584 non-null  int64  \n",
      " 5   season         52584 non-null  int64  \n",
      " 6   PM_Jingan      24700 non-null  float64\n",
      " 7   PM_US Post     34039 non-null  float64\n",
      " 8   PM_Xuhui       25189 non-null  float64\n",
      " 9   DEWP           52571 non-null  float64\n",
      " 10  HUMI           52571 non-null  float64\n",
      " 11  PRES           52556 non-null  float64\n",
      " 12  TEMP           52571 non-null  float64\n",
      " 13  cbwd           52572 non-null  object \n",
      " 14  Iws            52572 non-null  float64\n",
      " 15  precipitation  48575 non-null  float64\n",
      " 16  Iprec          48575 non-null  float64\n",
      "dtypes: float64(10), int64(6), object(1)\n",
      "memory usage: 6.8+ MB\n"
     ]
    }
   ],
   "source": [
    "data = pd.read_csv('Shanghai_HMT_2010.csv')\n",
    "# Проверим данные\n",
    "data.info()"
   ]
  },
  {
   "cell_type": "markdown",
   "id": "d3867608",
   "metadata": {},
   "source": [
    "##### Выбрасываем все NaN'ы"
   ]
  },
  {
   "cell_type": "code",
   "execution_count": 3,
   "id": "507f70f8",
   "metadata": {},
   "outputs": [],
   "source": [
    "data = data.dropna() \n",
    "# Проверим данные\n",
    "# data.info()"
   ]
  },
  {
   "cell_type": "markdown",
   "id": "20bb4b83",
   "metadata": {},
   "source": [
    "##### Остались категориальные признаки - дропнем их тоже"
   ]
  },
  {
   "cell_type": "code",
   "execution_count": 4,
   "id": "ffcf9bea",
   "metadata": {},
   "outputs": [
    {
     "name": "stdout",
     "output_type": "stream",
     "text": [
      "<class 'pandas.core.frame.DataFrame'>\n",
      "Int64Index: 21436 entries, 26304 to 52582\n",
      "Data columns (total 16 columns):\n",
      " #   Column         Non-Null Count  Dtype  \n",
      "---  ------         --------------  -----  \n",
      " 0   No             21436 non-null  int64  \n",
      " 1   year           21436 non-null  int64  \n",
      " 2   month          21436 non-null  int64  \n",
      " 3   day            21436 non-null  int64  \n",
      " 4   hour           21436 non-null  int64  \n",
      " 5   season         21436 non-null  int64  \n",
      " 6   PM_Jingan      21436 non-null  float64\n",
      " 7   PM_US Post     21436 non-null  float64\n",
      " 8   PM_Xuhui       21436 non-null  float64\n",
      " 9   DEWP           21436 non-null  float64\n",
      " 10  HUMI           21436 non-null  float64\n",
      " 11  PRES           21436 non-null  float64\n",
      " 12  TEMP           21436 non-null  float64\n",
      " 13  Iws            21436 non-null  float64\n",
      " 14  precipitation  21436 non-null  float64\n",
      " 15  Iprec          21436 non-null  float64\n",
      "dtypes: float64(10), int64(6)\n",
      "memory usage: 2.8 MB\n"
     ]
    }
   ],
   "source": [
    "data = data.drop(['cbwd'], axis=1)\n",
    "# Проверим данные\n",
    "data.info()"
   ]
  },
  {
   "cell_type": "markdown",
   "id": "fb1fae09",
   "metadata": {},
   "source": [
    "##### Нормализация"
   ]
  },
  {
   "cell_type": "code",
   "execution_count": 5,
   "id": "59ca4f6d",
   "metadata": {},
   "outputs": [],
   "source": [
    "data = (data - data.mean()) / data.std()"
   ]
  },
  {
   "cell_type": "markdown",
   "id": "e2462ff6",
   "metadata": {},
   "source": [
    "##### Разобъем данные на два класса по давлению - больше медианы (класс 1) и меньше ее (класс 0)"
   ]
  },
  {
   "cell_type": "code",
   "execution_count": 6,
   "id": "9b3c152e",
   "metadata": {},
   "outputs": [
    {
     "data": {
      "text/plain": [
       "-0.00668796382473264"
      ]
     },
     "execution_count": 6,
     "metadata": {},
     "output_type": "execute_result"
    }
   ],
   "source": [
    "pres_median = data['PRES'].median()\n",
    "pres_median"
   ]
  },
  {
   "cell_type": "code",
   "execution_count": 7,
   "id": "0d962c09",
   "metadata": {},
   "outputs": [],
   "source": [
    "data['PRES'] = (data['PRES'] > pres_median).astype('int64')"
   ]
  },
  {
   "cell_type": "code",
   "execution_count": 8,
   "id": "cf56383a",
   "metadata": {},
   "outputs": [],
   "source": [
    "# data.to_csv('data.csv')"
   ]
  },
  {
   "cell_type": "markdown",
   "id": "d0d7af9a",
   "metadata": {},
   "source": [
    "## Сравним обучение на кастомном классе логистической регрессии и из sklearn"
   ]
  },
  {
   "cell_type": "markdown",
   "id": "df7cfd74",
   "metadata": {},
   "source": [
    "###  Начнем с sklearn"
   ]
  },
  {
   "cell_type": "markdown",
   "id": "1d0fa121",
   "metadata": {},
   "source": [
    "##### Разбиваем данные на тест и трейн"
   ]
  },
  {
   "cell_type": "code",
   "execution_count": 9,
   "id": "b4d09916",
   "metadata": {},
   "outputs": [
    {
     "name": "stdout",
     "output_type": "stream",
     "text": [
      "mean_squared_error = 0.07789086796720385\n"
     ]
    }
   ],
   "source": [
    "from sklearn.model_selection import train_test_split\n",
    "from sklearn.linear_model import LogisticRegression\n",
    "from sklearn.metrics import mean_squared_error\n",
    "\n",
    "X = data.drop(['PRES'], axis=1)\n",
    "y = data['PRES']\n",
    "\n",
    "# установим random_state, чтобы результаты эксперимента были воспроизводимы\n",
    "X_train, X_test, y_train, y_test = train_test_split(X, y, test_size=0.33, random_state=42)\n",
    "\n",
    "model = LogisticRegression()\n",
    "\n",
    "model.fit(X_train, y_train)\n",
    "\n",
    "predictions_lr = model.predict(X_test)\n",
    "\n",
    "\n",
    "err = mean_squared_error(predictions_lr, y_test)\n",
    "print(\"mean_squared_error =\", err)"
   ]
  },
  {
   "cell_type": "markdown",
   "id": "b4511920",
   "metadata": {},
   "source": [
    "#####  Коэффициенты модели"
   ]
  },
  {
   "cell_type": "code",
   "execution_count": 10,
   "id": "6c974bd0",
   "metadata": {},
   "outputs": [
    {
     "data": {
      "text/plain": [
       "array([[ 0.27968073, -0.10891684,  1.63240662,  0.30364664,  0.08925376,\n",
       "         0.75141337, -0.51767906, -0.11853035,  0.49529419, -0.62644594,\n",
       "        -1.11960903, -4.28958965, -0.17161046, -0.14383498, -0.07903136]])"
      ]
     },
     "execution_count": 10,
     "metadata": {},
     "output_type": "execute_result"
    }
   ],
   "source": [
    "model.coef_"
   ]
  },
  {
   "cell_type": "markdown",
   "id": "a5e6b6a2",
   "metadata": {},
   "source": [
    "###  Далее посмотрим на результаты реализованного класса"
   ]
  },
  {
   "cell_type": "markdown",
   "id": "a0a79852",
   "metadata": {},
   "source": [
    "##### Разбиваем данные на тест и трейн"
   ]
  },
  {
   "cell_type": "code",
   "execution_count": null,
   "id": "b0d454df",
   "metadata": {},
   "outputs": [],
   "source": []
  },
  {
   "cell_type": "code",
   "execution_count": 11,
   "id": "a8997ae1",
   "metadata": {},
   "outputs": [],
   "source": [
    "import torch as T\n",
    "from lr import MyLogisticRegression\n",
    "\n",
    "X = data.drop(['PRES'], axis=1)\n",
    "y = data['PRES']\n",
    "\n",
    "# установим random_state, чтобы результаты эксперимента были воспроизводимы\n",
    "X_train, X_test, y_train, y_test = train_test_split(X, y, test_size=0.33, random_state=42)\n"
   ]
  },
  {
   "cell_type": "markdown",
   "id": "1e4582cd",
   "metadata": {},
   "source": [
    "\n",
    "##### Превратим в numpy - после чего в тензоры"
   ]
  },
  {
   "cell_type": "code",
   "execution_count": 12,
   "id": "3aa69003",
   "metadata": {},
   "outputs": [],
   "source": [
    "device = 'cpu'\n",
    "\n",
    "X_train = X_train.to_numpy()\n",
    "y_train = y_train.to_numpy()\n",
    "X_test = X_test.to_numpy()\n",
    "y_test = y_test.to_numpy()\n",
    "\n",
    "X_train = T.tensor(X_train, dtype=T.float32).to(device)\n",
    "y_train = T.tensor(y_train, dtype=T.long).to(device)\n",
    "X_test = T.tensor(X_test, dtype=T.float32).to(device)\n",
    "y_test = T.tensor(y_test, dtype=T.long).to(device)\n",
    "\n",
    "\n",
    "\n",
    "num_of_features = X_train.size()[1]\n",
    "# y_train.size()\n",
    "# len(X_train)"
   ]
  },
  {
   "cell_type": "code",
   "execution_count": 14,
   "id": "c874aad4",
   "metadata": {},
   "outputs": [
    {
     "name": "stdout",
     "output_type": "stream",
     "text": [
      "epoch =    0    loss = 601.0131\n",
      "epoch =    1    loss = 362.1095\n",
      "epoch =    2    loss = 298.0382\n",
      "epoch =    3    loss = 267.2681\n",
      "epoch =    4    loss = 248.4658\n",
      "epoch =    5    loss = 235.4877\n",
      "epoch =    6    loss = 225.8436\n",
      "epoch =    7    loss = 218.3123\n",
      "epoch =    8    loss = 212.2202\n",
      "epoch =    9    loss = 207.1597\n",
      "epoch =   10    loss = 202.8691\n",
      "epoch =   11    loss = 199.1740\n",
      "epoch =   12    loss = 195.9457\n",
      "epoch =   13    loss = 193.0962\n",
      "epoch =   14    loss = 190.5578\n",
      "epoch =   15    loss = 188.2785\n",
      "epoch =   16    loss = 186.2182\n",
      "epoch =   17    loss = 184.3456\n",
      "epoch =   18    loss = 182.6328\n",
      "epoch =   19    loss = 181.0608\n",
      "epoch =   20    loss = 179.6113\n",
      "epoch =   21    loss = 178.2691\n",
      "epoch =   22    loss = 177.0235\n",
      "epoch =   23    loss = 175.8626\n",
      "epoch =   24    loss = 174.7778\n",
      "epoch =   25    loss = 173.7626\n",
      "epoch =   26    loss = 172.8095\n",
      "epoch =   27    loss = 171.9124\n",
      "epoch =   28    loss = 171.0678\n",
      "epoch =   29    loss = 170.2691\n",
      "epoch =   30    loss = 169.5143\n",
      "epoch =   31    loss = 168.7979\n",
      "epoch =   32    loss = 168.1179\n",
      "epoch =   33    loss = 167.4722\n",
      "epoch =   34    loss = 166.8565\n",
      "epoch =   35    loss = 166.2706\n",
      "epoch =   36    loss = 165.7104\n",
      "epoch =   37    loss = 165.1763\n",
      "epoch =   38    loss = 164.6644\n",
      "epoch =   39    loss = 164.1745\n",
      "epoch =   40    loss = 163.7045\n",
      "epoch =   41    loss = 163.2547\n",
      "epoch =   42    loss = 162.8211\n",
      "epoch =   43    loss = 162.4054\n",
      "epoch =   44    loss = 162.0047\n",
      "epoch =   45    loss = 161.6192\n",
      "epoch =   46    loss = 161.2481\n",
      "epoch =   47    loss = 160.8896\n",
      "epoch =   48    loss = 160.5444\n",
      "epoch =   49    loss = 160.2109\n",
      "epoch =   50    loss = 159.8881\n",
      "epoch =   51    loss = 159.5762\n",
      "epoch =   52    loss = 159.2746\n",
      "epoch =   53    loss = 158.9827\n",
      "epoch =   54    loss = 158.6997\n",
      "epoch =   55    loss = 158.4257\n",
      "epoch =   56    loss = 158.1601\n",
      "epoch =   57    loss = 157.9023\n",
      "epoch =   58    loss = 157.6522\n",
      "epoch =   59    loss = 157.4093\n",
      "epoch =   60    loss = 157.1730\n",
      "epoch =   61    loss = 156.9439\n",
      "epoch =   62    loss = 156.7205\n",
      "epoch =   63    loss = 156.5040\n",
      "epoch =   64    loss = 156.2921\n",
      "epoch =   65    loss = 156.0874\n",
      "epoch =   66    loss = 155.8868\n",
      "epoch =   67    loss = 155.6915\n",
      "epoch =   68    loss = 155.5023\n",
      "epoch =   69    loss = 155.3163\n",
      "epoch =   70    loss = 155.1360\n",
      "epoch =   71    loss = 154.9600\n",
      "epoch =   72    loss = 154.7879\n",
      "epoch =   73    loss = 154.6198\n",
      "epoch =   74    loss = 154.4563\n",
      "epoch =   75    loss = 154.2960\n",
      "epoch =   76    loss = 154.1395\n",
      "epoch =   77    loss = 153.9864\n",
      "epoch =   78    loss = 153.8371\n",
      "epoch =   79    loss = 153.6909\n",
      "epoch =   80    loss = 153.5482\n",
      "epoch =   81    loss = 153.4086\n",
      "epoch =   82    loss = 153.2708\n",
      "epoch =   83    loss = 153.1373\n",
      "epoch =   84    loss = 153.0060\n",
      "epoch =   85    loss = 152.8779\n",
      "epoch =   86    loss = 152.7524\n",
      "epoch =   87    loss = 152.6290\n",
      "epoch =   88    loss = 152.5084\n",
      "epoch =   89    loss = 152.3904\n",
      "epoch =   90    loss = 152.2744\n",
      "epoch =   91    loss = 152.1606\n",
      "epoch =   92    loss = 152.0492\n",
      "epoch =   93    loss = 151.9398\n",
      "epoch =   94    loss = 151.8326\n",
      "epoch =   95    loss = 151.7272\n",
      "epoch =   96    loss = 151.6240\n",
      "epoch =   97    loss = 151.5225\n",
      "epoch =   98    loss = 151.4234\n",
      "epoch =   99    loss = 151.3263\n"
     ]
    }
   ],
   "source": [
    "\n",
    "\n",
    "my_lr = MyLogisticRegression(device, num_of_features)\n",
    "\n",
    "lrn_rate = 0.0001\n",
    "indices = np.arange(len(X_train))\n",
    "\n",
    "w, b = my_lr.fit(\n",
    "    X_train,\n",
    "    y_train,\n",
    "    lrn_rate,\n",
    "    indices,\n",
    "    100,\n",
    "    0)"
   ]
  },
  {
   "cell_type": "code",
   "execution_count": 19,
   "id": "401241fb",
   "metadata": {},
   "outputs": [],
   "source": [
    "predictions_my = my_lr.predict(X_test)"
   ]
  },
  {
   "cell_type": "code",
   "execution_count": 20,
   "id": "468bb4e1",
   "metadata": {},
   "outputs": [
    {
     "name": "stdout",
     "output_type": "stream",
     "text": [
      "mean_squared_error = 0.06071504279419961\n"
     ]
    }
   ],
   "source": [
    "err = mean_squared_error(predictions_my, y_test)\n",
    "print(\"mean_squared_error =\", err)"
   ]
  }
 ],
 "metadata": {
  "kernelspec": {
   "display_name": "Python 3 (ipykernel)",
   "language": "python",
   "name": "python3"
  },
  "language_info": {
   "codemirror_mode": {
    "name": "ipython",
    "version": 3
   },
   "file_extension": ".py",
   "mimetype": "text/x-python",
   "name": "python",
   "nbconvert_exporter": "python",
   "pygments_lexer": "ipython3",
   "version": "3.9.5"
  }
 },
 "nbformat": 4,
 "nbformat_minor": 5
}
