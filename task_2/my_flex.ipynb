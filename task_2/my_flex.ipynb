{
 "cells": [
  {
   "cell_type": "code",
   "execution_count": 1,
   "id": "16421ea3",
   "metadata": {},
   "outputs": [],
   "source": [
    "import numpy as np\n",
    "import torch as T\n",
    "device = 'cpu'"
   ]
  },
  {
   "cell_type": "code",
   "execution_count": 2,
   "id": "e168b630",
   "metadata": {},
   "outputs": [],
   "source": [
    "def forward(x, w, b):\n",
    "#     z = T.dot(x, w).reshape(1)\n",
    "#     if(len(x) == 1 and len(w) == 1):\n",
    "    z = x * w\n",
    "#     else:\n",
    "#         z = T.dot(x, w)\n",
    "    z += b\n",
    "    p = 1 / (1 + T.exp(-z))\n",
    "\n",
    "    return p"
   ]
  },
  {
   "cell_type": "code",
   "execution_count": 3,
   "id": "9d64f8cb",
   "metadata": {},
   "outputs": [],
   "source": [
    "seed = 0xEDA"
   ]
  },
  {
   "cell_type": "code",
   "execution_count": 4,
   "id": "37e1ec74",
   "metadata": {},
   "outputs": [
    {
     "name": "stdout",
     "output_type": "stream",
     "text": [
      "Создадим данные\n"
     ]
    }
   ],
   "source": [
    "print(\"Создадим данные\")\n",
    "T.manual_seed(seed)\n",
    "np.random.seed(seed)\n",
    "\n",
    "# 1. Модельные данные для обучения\n",
    "# train_x = np.array([\n",
    "#     [1.5, 2.5], [3.5, 4.5], [6.5, 6.5],\n",
    "#     [4.5, 1.5], [5.5, 3.5], [7.5, 5.5]], dtype=np.float32)\n",
    "\n",
    "train_x = np.array([\n",
    "    -10, -8, -8.3, -7.6, -7, -6.5, -6, -5.5, -4.4, -4, -3, -2.4, -1.5, -0.75, 0.1, 0.22,\n",
    "    -0.3, -0.1, 0.9, 1.7, 3, 4, 5.3, 5.5, 6 ,6.5, 7, 7.2, 8, 8.9, 9, 10\n",
    "], dtype=np.float32)\n",
    "\n",
    "len_train_x = len(train_x)\n",
    "\n",
    "if(len_train_x % 2 != 0):\n",
    "    print(len(train_x))\n",
    "    assert(len_train_x % 2 == 0)\n",
    "\n",
    "train_y = np.ones_like(train_x, dtype=np.float32)\n",
    "\n",
    "for i in range(int(len_train_x / 2)):\n",
    "    train_y[i] = 0\n",
    "\n",
    "# train_y = np.array([\n",
    "#     0, 0, 0, 0, 0, 0, 0, 0, 0, 0, 0, 0,\n",
    "#     1, 1, 1, 1, 1, 1, 1, 1, 1, 1, 1, 1\n",
    "\n",
    "# ], dtype=np.float32)\n",
    "if(len(train_x) != len(train_y)):\n",
    "    print(len(train_x))\n",
    "    print(len(train_y))\n",
    "    assert(len(train_x) == len(train_y))\n"
   ]
  },
  {
   "cell_type": "code",
   "execution_count": 5,
   "id": "f9d5761c",
   "metadata": {
    "scrolled": true
   },
   "outputs": [
    {
     "name": "stdout",
     "output_type": "stream",
     "text": [
      "Превратим в тензоры:\n",
      "[-10.    -8.    -8.3   -7.6   -7.    -6.5   -6.    -5.5   -4.4   -4.\n",
      "  -3.    -2.4   -1.5   -0.75   0.1    0.22  -0.3   -0.1    0.9    1.7\n",
      "   3.     4.     5.3    5.5    6.     6.5    7.     7.2    8.     8.9\n",
      "   9.    10.  ]\n",
      "[0. 0. 0. 0. 0. 0. 0. 0. 0. 0. 0. 0. 0. 0. 0. 0. 1. 1. 1. 1. 1. 1. 1. 1.\n",
      " 1. 1. 1. 1. 1. 1. 1. 1.]\n"
     ]
    }
   ],
   "source": [
    "print(\"Превратим в тензоры:\")\n",
    "print(train_x)\n",
    "print(train_y)\n",
    "\n",
    "train_x = T.tensor(train_x, dtype=T.float32).to(device)\n",
    "train_y = T.tensor(train_y, dtype=T.long).to(device)\n"
   ]
  },
  {
   "cell_type": "code",
   "execution_count": 6,
   "id": "441eade9",
   "metadata": {},
   "outputs": [
    {
     "name": "stdout",
     "output_type": "stream",
     "text": [
      "tensor([-0.0059], grad_fn=<AddBackward0>)\n",
      "tensor([0.], requires_grad=True)\n"
     ]
    }
   ],
   "source": [
    "# границы для случайной величины\n",
    "lo = -0.01; hi = 0.01\n",
    "w = T.rand((1), dtype=T.float32, requires_grad=True).to(device)\n",
    "w = (hi - lo) * w + lo\n",
    "w.grad = T.zeros(1)\n",
    "w.retain_grad()\n",
    "\n",
    "b = T.zeros((1), dtype=T.float32, requires_grad=True).to(device)\n",
    "b.grad = T.zeros(1)\n",
    "b.retain_grad()\n",
    "print(w)\n",
    "print(b)"
   ]
  },
  {
   "cell_type": "code",
   "execution_count": 7,
   "id": "da7e9785",
   "metadata": {
    "scrolled": false
   },
   "outputs": [
    {
     "name": "stdout",
     "output_type": "stream",
     "text": [
      "Обучение\n",
      "epoch =    0    loss = 0.7686\n",
      "tensor([4.6113], grad_fn=<SubBackward0>)\n",
      "=========================================\n",
      "epoch =  100    loss = 0.2162\n",
      "tensor([-1.0848e-05], grad_fn=<SubBackward0>)\n",
      "=========================================\n",
      "epoch =  200    loss = 0.2162\n",
      "tensor([-7.1526e-07], grad_fn=<SubBackward0>)\n",
      "=========================================\n"
     ]
    }
   ],
   "source": [
    "print(\"Обучение\")\n",
    "\n",
    "lrn_rate = 0.05\n",
    "indices = np.arange(18)\n",
    "\n",
    "N = 1000\n",
    "\n",
    "w_evolution = np.array([])\n",
    "\n",
    "prev_tot_loss = 1000\n",
    "tot_loss = 0\n",
    "# for epoch in range(0, N):\n",
    "epoch = 0\n",
    "while(abs(prev_tot_loss - tot_loss) > 1e-7):\n",
    "    \n",
    "    prev_tot_loss = tot_loss\n",
    "    tot_loss = 0\n",
    "    tot_loss = T.zeros((1), dtype=T.float32, requires_grad=True).to(device)\n",
    "    tot_loss.grad = T.zeros(1)\n",
    "    tot_loss.retain_grad()\n",
    "    \n",
    "    np.random.shuffle(indices)  \n",
    "    for ii in range(len(indices)):\n",
    "        i = indices[ii]\n",
    "        x = train_x[i]\n",
    "        target = train_y[i]\n",
    "\n",
    "        oupt = forward(x, w, b)\n",
    "        loss = (oupt - target).pow(2).sum()\n",
    "        tot_loss = loss+tot_loss\n",
    "\n",
    "#     tot_loss = tot_loss + T.norm(w, p=2) # l2 reg\n",
    "#     tot_loss = tot_loss + T.norm(w, p=1) # l1 reg\n",
    "\n",
    "    tot_loss.backward(retain_graph=True)  # compute gradients\n",
    "\n",
    "    w.data += -1 * lrn_rate * w.grad.data\n",
    "    b.data += -1 * lrn_rate * b.grad.data\n",
    "    w.grad = T.zeros(1)\n",
    "    b.grad = T.zeros(1)\n",
    "\n",
    "#     w_evolution[epoch, 0] = w[0]\n",
    "    np.append(w_evolution, w[0].detach().numpy())\n",
    "\n",
    "#     print(\"epoch = %4d \" % epoch, end=\"\")\n",
    "#     print(\"   loss = %6.4f\" % (tot_loss / 6))\n",
    "#     print(tot_loss)    \n",
    "#     print(\"=========================================\")\n",
    "    \n",
    "    if epoch % 100 == 0:\n",
    "        print(\"epoch = %4d \" % epoch, end=\"\")\n",
    "        print(\"   loss = %6.4f\" % (tot_loss / 6))\n",
    "        print(tot_loss - prev_tot_loss)\n",
    "        \n",
    "        print(\"=========================================\")\n",
    "    epoch +=1"
   ]
  },
  {
   "cell_type": "code",
   "execution_count": 8,
   "id": "6c17b6ac",
   "metadata": {},
   "outputs": [
    {
     "name": "stdout",
     "output_type": "stream",
     "text": [
      "w:  tensor([0.8565], grad_fn=<AddBackward0>)\n",
      "b:  tensor([-0.3950], requires_grad=True)\n",
      "[-10.    -8.    -8.3   -7.6   -7.    -6.5   -6.    -5.5   -4.4   -4.\n",
      "  -3.    -2.4   -1.5   -0.75   0.1    0.22]\n",
      "[-0.3 -0.1  0.9  1.7  3.   4.   5.3  5.5  6.   6.5  7.   7.2  8.   8.9\n",
      "  9.  10. ]\n"
     ]
    },
    {
     "data": {
      "image/png": "[encoded data removed]",
      "text/plain": [
       "<Figure size 576x576 with 1 Axes>"
      ]
     },
     "metadata": {
      "needs_background": "light"
     },
     "output_type": "display_data"
    }
   ],
   "source": [
    "import matplotlib.pyplot as plt\n",
    "\n",
    "fig, ax1 = plt.subplots(\n",
    "    nrows=1, ncols=1,\n",
    "    figsize=(8, 8)\n",
    ")\n",
    "x = np.linspace(-10, 10, 101)\n",
    "\n",
    "x = T.tensor(x, dtype=T.float32).to(device)\n",
    "\n",
    "print(\"w: \", w)\n",
    "print(\"b: \", b)\n",
    "\n",
    "y = forward(x, w, b)\n",
    "y = y.detach().numpy()\n",
    "ax1.scatter(x, y, marker='o', c='r')\n",
    "\n",
    "pack_0 = np.zeros((int(len(x) / 2), 2))\n",
    "pack_1 = np.zeros((int(len(x) / 2), 2))\n",
    "\n",
    "train_x_numpy = train_x.numpy()\n",
    "train_y_numpy = train_y.numpy()\n",
    "\n",
    "pack_0 = train_x_numpy[train_y_numpy == 0]\n",
    "pack_1 = train_x_numpy[train_y_numpy == 1]\n",
    "\n",
    "print(pack_0)\n",
    "print(pack_1)\n",
    "\n",
    "ax1.scatter(pack_0, np.zeros_like(pack_0), marker='x', c='g')\n",
    "ax1.scatter(pack_1, np.ones_like(pack_1), marker='x', c='b')\n",
    "\n",
    "plt.grid()"
   ]
  }
 ],
 "metadata": {
  "kernelspec": {
   "display_name": "Python 3 (ipykernel)",
   "language": "python",
   "name": "python3"
  },
  "language_info": {
   "codemirror_mode": {
    "name": "ipython",
    "version": 3
   },
   "file_extension": ".py",
   "mimetype": "text/x-python",
   "name": "python",
   "nbconvert_exporter": "python",
   "pygments_lexer": "ipython3",
   "version": "3.9.5"
  }
 },
 "nbformat": 4,
 "nbformat_minor": 5
}
