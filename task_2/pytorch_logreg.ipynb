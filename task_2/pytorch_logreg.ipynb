{
 "cells": [
  {
   "cell_type": "code",
   "execution_count": 1,
   "id": "16421ea3",
   "metadata": {},
   "outputs": [],
   "source": [
    "import numpy as np\n",
    "import torch as T\n",
    "device = 'cpu'"
   ]
  },
  {
   "cell_type": "code",
   "execution_count": 2,
   "id": "e168b630",
   "metadata": {},
   "outputs": [],
   "source": [
    "def forward(x, w, b):\n",
    "    z = T.dot(x, w).reshape(1)\n",
    "    z += b\n",
    "    p = 1 / (1 + T.exp(-z))\n",
    "    return p"
   ]
  },
  {
   "cell_type": "code",
   "execution_count": 3,
   "id": "9d64f8cb",
   "metadata": {},
   "outputs": [],
   "source": [
    "seed = 0xEDA"
   ]
  },
  {
   "cell_type": "code",
   "execution_count": 4,
   "id": "37e1ec74",
   "metadata": {},
   "outputs": [
    {
     "name": "stdout",
     "output_type": "stream",
     "text": [
      "Создадим данные\n"
     ]
    }
   ],
   "source": [
    "print(\"Создадим данные\")\n",
    "T.manual_seed(seed)\n",
    "np.random.seed(seed)\n",
    "\n",
    "# 1. Модельные данные для обучения\n",
    "train_x = np.array([\n",
    "    [1.5, 2.5], [3.5, 4.5], [6.5, 6.5],\n",
    "    [4.5, 1.5], [5.5, 3.5], [7.5, 5.5]], dtype=np.float32)\n",
    "train_y = np.array([1, 1, 1, 0, 0, 0], dtype=np.long)"
   ]
  },
  {
   "cell_type": "code",
   "execution_count": 5,
   "id": "f9d5761c",
   "metadata": {
    "scrolled": true
   },
   "outputs": [
    {
     "name": "stdout",
     "output_type": "stream",
     "text": [
      "Превратим в тензоры:\n",
      "[[1.5 2.5]\n",
      " [3.5 4.5]\n",
      " [6.5 6.5]\n",
      " [4.5 1.5]\n",
      " [5.5 3.5]\n",
      " [7.5 5.5]]\n",
      "[1 1 1 0 0 0]\n"
     ]
    }
   ],
   "source": [
    "print(\"Превратим в тензоры:\")\n",
    "print(train_x)\n",
    "print(train_y)\n",
    "\n",
    "train_x = T.tensor(train_x, dtype=T.float32).to(device)\n",
    "train_y = T.tensor(train_y, dtype=T.long).to(device)"
   ]
  },
  {
   "cell_type": "code",
   "execution_count": 6,
   "id": "441eade9",
   "metadata": {},
   "outputs": [],
   "source": [
    "# границы для случайной величины\n",
    "lo = -0.01; hi = 0.01\n",
    "w = T.rand((2), dtype=T.float32, requires_grad=True).to(device)\n",
    "w = (hi - lo) * w + lo\n",
    "w.grad = T.zeros(2)\n",
    "w.retain_grad()\n",
    "\n",
    "b = T.zeros((1), dtype=T.float32, requires_grad=True).to(device)\n",
    "b.grad = T.zeros(1)\n",
    "b.retain_grad()"
   ]
  },
  {
   "cell_type": "code",
   "execution_count": 12,
   "id": "da7e9785",
   "metadata": {
    "scrolled": false
   },
   "outputs": [
    {
     "name": "stdout",
     "output_type": "stream",
     "text": [
      "Обучение\n",
      "epoch =    0    loss = 0.1489\n",
      "epoch =   10    loss = 0.0835\n",
      "epoch =   20    loss = 0.0572\n",
      "epoch =   30    loss = 0.0441\n",
      "epoch =   40    loss = 0.0358\n",
      "epoch =   50    loss = 0.0301\n",
      "epoch =   60    loss = 0.0259\n",
      "epoch =   70    loss = 0.0228\n",
      "epoch =   80    loss = 0.0203\n",
      "epoch =   90    loss = 0.0182\n"
     ]
    }
   ],
   "source": [
    "print(\"Обучение\")\n",
    "\n",
    "lrn_rate = 0.05\n",
    "indices = np.arange(6)\n",
    "\n",
    "for epoch in range(0, 100):\n",
    "    tot_loss = 0\n",
    "    tot_loss = T.zeros((1), dtype=T.float32, requires_grad=True).to(device)\n",
    "    tot_loss.grad = T.zeros(1)\n",
    "    tot_loss.retain_grad()\n",
    "    \n",
    "    np.random.shuffle(indices)  \n",
    "    for ii in range(len(indices)):\n",
    "        i = indices[ii]\n",
    "        x = train_x[i]\n",
    "        target = train_y[i]\n",
    "        oupt = forward(x, w, b)\n",
    "        loss = (oupt - target).pow(2).sum()\n",
    "        tot_loss = loss+tot_loss\n",
    "        \n",
    "#     tot_loss = tot_loss + T.norm(w, p=2) # l2 reg\n",
    "#     tot_loss = tot_loss + T.norm(w, p=1) # l1 reg\n",
    "\n",
    "    tot_loss.backward(retain_graph=True)  # compute gradients\n",
    "\n",
    "    w.data += -1 * lrn_rate * w.grad.data\n",
    "    b.data += -1 * lrn_rate * b.grad.data\n",
    "\n",
    "    w.grad = T.zeros(2)\n",
    "    b.grad = T.zeros(1)\n",
    "\n",
    "    if epoch % 10 == 0:\n",
    "        print(\"epoch = %4d \" % epoch, end=\"\")\n",
    "        print(\"   loss = %6.4f\" % (tot_loss / 6))"
   ]
  }
 ],
 "metadata": {
  "kernelspec": {
   "display_name": "Python 3",
   "language": "python",
   "name": "python3"
  },
  "language_info": {
   "codemirror_mode": {
    "name": "ipython",
    "version": 3
   },
   "file_extension": ".py",
   "mimetype": "text/x-python",
   "name": "python",
   "nbconvert_exporter": "python",
   "pygments_lexer": "ipython3",
   "version": "3.8.10"
  }
 },
 "nbformat": 4,
 "nbformat_minor": 5
}
