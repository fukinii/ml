{
 "cells": [
  {
   "cell_type": "code",
   "execution_count": 1,
   "id": "16421ea3",
   "metadata": {},
   "outputs": [],
   "source": [
    "import numpy as np\n",
    "import torch as T\n",
    "device = 'cpu'"
   ]
  },
  {
   "cell_type": "code",
   "execution_count": 2,
   "id": "9d64f8cb",
   "metadata": {},
   "outputs": [],
   "source": [
    "seed = 0xEDA"
   ]
  },
  {
   "cell_type": "code",
   "execution_count": 48,
   "id": "37e1ec74",
   "metadata": {},
   "outputs": [
    {
     "name": "stdout",
     "output_type": "stream",
     "text": [
      "Создадим данные\n"
     ]
    }
   ],
   "source": [
    "print(\"Создадим данные\")\n",
    "T.manual_seed(seed)\n",
    "np.random.seed(seed)\n",
    "\n",
    "# 1. Модельные данные для обучения\n",
    "# train_x = np.array([\n",
    "#     [1.5, 2.5], [3.5, 4.5], [6.5, 6.5], [1.0, 2.0], [2.5, 7.5], [3.0, 9.0], [4.5, 11.5], [2.0, 6.0],\n",
    "#     [4.5, 1.5], [5.5, 3.5], [7.5, 5.5], [4.5, 2.5], [8.0, 2.5], [6.5, 3.5], [8.5, 4.5], [5.0, 2.0]], \n",
    "#     dtype=np.float32)\n",
    "# train_y = np.array([1, 1, 1, 1, 1, 1, 1, 1, 0, 0, 0, 0, 0, 0, 0, 0], dtype=np.compat.long)\n",
    "\n",
    "# train_x = np.array([\n",
    "#     [1.5, 2.5], [3.5, 4.5], [6.5, 6.5], [1.0, 2.0], [2.5, 7.5],\n",
    "#     [4.5, 1.5], [6.5, 2.5], [8.5, 2.5], [4.5, 2.5], [8.0, 2.5]], dtype=np.float32)\n",
    "# train_y = np.array([1, 1, 1, 1, 1, 0, 0, 0, 0, 0], dtype=np.compat.long)\n",
    "\n",
    "# train_x = np.array([\n",
    "#     [1.5, 2.5], [3.5, 4.5], [6.5, 6.5],\n",
    "#     [4.5, 1.5], [5.5, 3.5], [7.5, 5.5]], dtype=np.float32)\n",
    "# train_y = np.array([1, 1, 1, 0, 0, 0], dtype=np.compat.long)\n",
    "\n",
    "\n",
    "train_x = np.array([\n",
    "    [1, 2], [1, 3], [1, 4], [1, 5], [2, 3], [2, 4], [2, 5], [3, 4], [3, 5], [4, 5],\n",
    "    [2, 1], [3, 1], [4, 1], [5, 1], [3, 2], [4, 2], [5, 2], [4, 3], [5, 3], [5, 4]], dtype=np.float32)\n",
    "train_y = np.array([0, 0, 0, 0, 0, 0, 0, 0, 0, 0, 1, 1, 1, 1, 1, 1, 1, 1, 1, 1], dtype=np.compat.long)\n",
    "\n",
    "\n",
    "# 2. Тестируемые данные\n",
    "test_x = np.copy(train_x)\n",
    "test_y = np.copy(train_y)\n",
    "# test_x = np.array([\n",
    "#     [1.5, 2.5], [3.5, 4.5], [6.5, 6.5],\n",
    "#     [4.5, 1.5], [5.5, 3.5], [7.5, 5.5]], dtype=np.float32)\n",
    "# test_y = np.array([1, 1, 1, 0, 0, 0], dtype=np.compat.long)"
   ]
  },
  {
   "cell_type": "code",
   "execution_count": 49,
   "id": "f9d5761c",
   "metadata": {
    "scrolled": true
   },
   "outputs": [
    {
     "name": "stdout",
     "output_type": "stream",
     "text": [
      "Превратим в тензоры:\n",
      "[[1. 2.]\n",
      " [1. 3.]\n",
      " [1. 4.]\n",
      " [1. 5.]\n",
      " [2. 3.]\n",
      " [2. 4.]\n",
      " [2. 5.]\n",
      " [3. 4.]\n",
      " [3. 5.]\n",
      " [4. 5.]\n",
      " [2. 1.]\n",
      " [3. 1.]\n",
      " [4. 1.]\n",
      " [5. 1.]\n",
      " [3. 2.]\n",
      " [4. 2.]\n",
      " [5. 2.]\n",
      " [4. 3.]\n",
      " [5. 3.]\n",
      " [5. 4.]]\n",
      "[0 0 0 0 0 0 0 0 0 0 1 1 1 1 1 1 1 1 1 1]\n"
     ]
    }
   ],
   "source": [
    "print(\"Превратим в тензоры:\")\n",
    "print(train_x)\n",
    "print(train_y)\n",
    "\n",
    "train_x = T.tensor(train_x, dtype=T.float32).to(device)\n",
    "train_y = T.tensor(train_y, dtype=T.long).to(device)\n",
    "\n",
    "test_x = T.tensor(test_x, dtype=T.float32).to(device)\n",
    "test_y = T.tensor(test_y, dtype=T.long).to(device)\n",
    "\n",
    "# print(type(train_x))"
   ]
  },
  {
   "cell_type": "code",
   "execution_count": 50,
   "id": "ee56d110",
   "metadata": {},
   "outputs": [],
   "source": [
    "from sklearn.linear_model import LogisticRegression\n",
    "from lr import MyLogisticRegression"
   ]
  },
  {
   "cell_type": "code",
   "execution_count": 54,
   "id": "82e6cf79",
   "metadata": {},
   "outputs": [
    {
     "name": "stdout",
     "output_type": "stream",
     "text": [
      "tensor([ 3.2468, -3.2468], grad_fn=<AddBackward0>) tensor([1.7380e-05], requires_grad=True)\n"
     ]
    }
   ],
   "source": [
    "my_lr = MyLogisticRegression(device)\n",
    "\n",
    "lrn_rate = 0.05\n",
    "indices = np.arange(len(test_x))\n",
    "\n",
    "w, b = my_lr.fit(\n",
    "    train_x,\n",
    "    train_y,\n",
    "    lrn_rate,\n",
    "    indices,\n",
    "    1000,\n",
    "    0)\n",
    "\n",
    "print(my_lr.w, my_lr.b)"
   ]
  },
  {
   "cell_type": "code",
   "execution_count": 55,
   "id": "819ce0ea",
   "metadata": {},
   "outputs": [],
   "source": [
    "p = my_lr.predict(test_x)"
   ]
  },
  {
   "cell_type": "code",
   "execution_count": 56,
   "id": "64196056",
   "metadata": {},
   "outputs": [
    {
     "name": "stdout",
     "output_type": "stream",
     "text": [
      "[3.7442554e-02 1.5108299e-03 5.8854512e-05 2.2894865e-06 3.7442382e-02\n",
      " 1.5108221e-03 5.8854235e-05 3.7442178e-02 1.5108135e-03 3.7442006e-02\n",
      " 9.6255821e-01 9.9848914e-01 9.9994111e-01 9.9999774e-01 9.6255797e-01\n",
      " 9.9848914e-01 9.9994111e-01 9.6255785e-01 9.9848914e-01 9.6255761e-01]\n"
     ]
    }
   ],
   "source": [
    "print(p)"
   ]
  },
  {
   "cell_type": "code",
   "execution_count": 31,
   "id": "e11a8a8f",
   "metadata": {},
   "outputs": [],
   "source": [
    "# p - train_y.numpy()"
   ]
  },
  {
   "cell_type": "code",
   "execution_count": 37,
   "id": "88e06bae",
   "metadata": {},
   "outputs": [
    {
     "data": {
      "text/plain": [
       "array([1, 1, 1, 1, 1, 1, 1, 1, 0, 0, 0, 0, 0, 0, 0, 0])"
      ]
     },
     "execution_count": 37,
     "metadata": {},
     "output_type": "execute_result"
    }
   ],
   "source": [
    "clf = LogisticRegression(random_state=41).fit(train_x, train_y)\n",
    "\n",
    "clf.predict(test_x)\n",
    "# clf.score(train_x, train_y)\n"
   ]
  }
 ],
 "metadata": {
  "kernelspec": {
   "display_name": "Python 3 (ipykernel)",
   "language": "python",
   "name": "python3"
  },
  "language_info": {
   "codemirror_mode": {
    "name": "ipython",
    "version": 3
   },
   "file_extension": ".py",
   "mimetype": "text/x-python",
   "name": "python",
   "nbconvert_exporter": "python",
   "pygments_lexer": "ipython3",
   "version": "3.9.5"
  }
 },
 "nbformat": 4,
 "nbformat_minor": 5
}
