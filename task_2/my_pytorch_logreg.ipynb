{
 "cells": [
  {
   "cell_type": "code",
   "execution_count": 7,
   "id": "16421ea3",
   "metadata": {},
   "outputs": [],
   "source": [
    "import numpy as np\n",
    "import torch as T\n",
    "device = 'cpu'"
   ]
  },
  {
   "cell_type": "code",
   "execution_count": 8,
   "id": "9d64f8cb",
   "metadata": {},
   "outputs": [],
   "source": [
    "seed = 0xEDA"
   ]
  },
  {
   "cell_type": "code",
   "execution_count": 9,
   "id": "37e1ec74",
   "metadata": {},
   "outputs": [
    {
     "name": "stdout",
     "output_type": "stream",
     "text": [
      "Создадим данные\n"
     ]
    }
   ],
   "source": [
    "print(\"Создадим данные\")\n",
    "T.manual_seed(seed)\n",
    "np.random.seed(seed)\n",
    "\n",
    "# 1. Модельные данные для обучения\n",
    "train_x = np.array([\n",
    "    [1.5, 2.5], [3.5, 4.5], [6.5, 6.5],\n",
    "    [4.5, 1.5], [5.5, 3.5], [7.5, 5.5]], dtype=np.float32)\n",
    "train_y = np.array([1, 1, 1, 0, 0, 0], dtype=np.compat.long)"
   ]
  },
  {
   "cell_type": "code",
   "execution_count": 10,
   "id": "f9d5761c",
   "metadata": {
    "scrolled": true
   },
   "outputs": [
    {
     "name": "stdout",
     "output_type": "stream",
     "text": [
      "Превратим в тензоры:\n",
      "[[1.5 2.5]\n",
      " [3.5 4.5]\n",
      " [6.5 6.5]\n",
      " [4.5 1.5]\n",
      " [5.5 3.5]\n",
      " [7.5 5.5]]\n",
      "[1 1 1 0 0 0]\n"
     ]
    }
   ],
   "source": [
    "print(\"Превратим в тензоры:\")\n",
    "print(train_x)\n",
    "print(train_y)\n",
    "\n",
    "train_x = T.tensor(train_x, dtype=T.float32).to(device)\n",
    "train_y = T.tensor(train_y, dtype=T.long).to(device)\n",
    "\n",
    "# print(type(train_x))"
   ]
  },
  {
   "cell_type": "code",
   "execution_count": 16,
   "id": "f26c3485",
   "metadata": {},
   "outputs": [],
   "source": [
    "from sklearn.linear_model import LogisticRegression"
   ]
  },
  {
   "cell_type": "code",
   "execution_count": 17,
   "id": "9ab248c8",
   "metadata": {},
   "outputs": [],
   "source": [
    "from lr import LogisticRegression"
   ]
  },
  {
   "cell_type": "code",
   "execution_count": 23,
   "id": "a18b859b",
   "metadata": {},
   "outputs": [
    {
     "name": "stdout",
     "output_type": "stream",
     "text": [
      "epoch =    0    loss = 0.2475\n",
      "epoch =   10    loss = 0.1234\n",
      "epoch =   20    loss = 0.0772\n",
      "epoch =   30    loss = 0.0552\n",
      "epoch =   40    loss = 0.0429\n",
      "epoch =   50    loss = 0.0349\n",
      "epoch =   60    loss = 0.0294\n",
      "epoch =   70    loss = 0.0254\n",
      "epoch =   80    loss = 0.0223\n",
      "epoch =   90    loss = 0.0198\n",
      "tensor([-1.3765,  1.5673], grad_fn=<AddBackward0>)\n"
     ]
    }
   ],
   "source": [
    "my_lr = LogisticRegression(device)\n",
    "\n",
    "lrn_rate = 0.05\n",
    "indices = np.arange(6)\n",
    "\n",
    "w = my_lr.fit(\n",
    "    train_x,\n",
    "    train_y,\n",
    "    lrn_rate,\n",
    "    indices,\n",
    "    100,\n",
    "    0)\n",
    "\n",
    "print(w)"
   ]
  },
  {
   "cell_type": "code",
   "execution_count": null,
   "id": "b8a9cf3b",
   "metadata": {},
   "outputs": [],
   "source": []
  }
 ],
 "metadata": {
  "kernelspec": {
   "display_name": "Python 3 (ipykernel)",
   "language": "python",
   "name": "python3"
  },
  "language_info": {
   "codemirror_mode": {
    "name": "ipython",
    "version": 3
   },
   "file_extension": ".py",
   "mimetype": "text/x-python",
   "name": "python",
   "nbconvert_exporter": "python",
   "pygments_lexer": "ipython3",
   "version": "3.9.5"
  }
 },
 "nbformat": 4,
 "nbformat_minor": 5
}
