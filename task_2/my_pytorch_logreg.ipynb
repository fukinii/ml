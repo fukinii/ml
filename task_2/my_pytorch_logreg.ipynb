{
 "cells": [
  {
   "cell_type": "code",
   "execution_count": 1,
   "id": "16421ea3",
   "metadata": {},
   "outputs": [],
   "source": [
    "import numpy as np\n",
    "import torch as T\n",
    "device = 'cpu'"
   ]
  },
  {
   "cell_type": "code",
   "execution_count": 2,
   "id": "9d64f8cb",
   "metadata": {},
   "outputs": [],
   "source": [
    "seed = 0xEDA"
   ]
  },
  {
   "cell_type": "code",
   "execution_count": 42,
   "id": "37e1ec74",
   "metadata": {},
   "outputs": [
    {
     "name": "stdout",
     "output_type": "stream",
     "text": [
      "Создадим данные\n"
     ]
    }
   ],
   "source": [
    "print(\"Создадим данные\")\n",
    "T.manual_seed(seed)\n",
    "np.random.seed(seed)\n",
    "\n",
    "# 1. Модельные данные для обучения\n",
    "# train_x = np.array([\n",
    "#     [1.5, 2.5], [3.5, 4.5], [6.5, 6.5], [1.0, 2.0], [2.5, 7.5], [3.0, 9.0], [4.5, 11.5], [2.0, 6.0],\n",
    "#     [4.5, 1.5], [5.5, 3.5], [7.5, 5.5], [4.5, 2.5], [8.0, 2.5], [6.5, 3.5], [8.5, 4.5], [5.0, 2.0]], \n",
    "#     dtype=np.float32)\n",
    "# train_y = np.array([1, 1, 1, 1, 1, 1, 1, 1, 0, 0, 0, 0, 0, 0, 0, 0], dtype=np.compat.long)\n",
    "\n",
    "# train_x = np.array([\n",
    "#     [1.5, 2.5], [3.5, 4.5], [6.5, 6.5], [1.0, 2.0], [2.5, 7.5],\n",
    "#     [4.5, 1.5], [6.5, 2.5], [8.5, 2.5], [4.5, 2.5], [8.0, 2.5]], dtype=np.float32)\n",
    "# train_y = np.array([1, 1, 1, 1, 1, 0, 0, 0, 0, 0], dtype=np.compat.long)\n",
    "\n",
    "# train_x = np.array([\n",
    "#     [1.5, 2.5], [3.5, 4.5], [6.5, 6.5],\n",
    "#     [4.5, 1.5], [5.5, 3.5], [7.5, 5.5]], dtype=np.float32)\n",
    "# train_y = np.array([1, 1, 1, 0, 0, 0], dtype=np.compat.long)\n",
    "\n",
    "\n",
    "train_x = np.array([\n",
    "    [1, 2], [1, 3], [1, 4], [1, 5], [2, 3], [2, 4], [2, 5], [3, 4], [3, 5], [4, 5],\n",
    "    [2, 1], [3, 1], [4, 1], [5, 1], [3, 2], [4, 2], [5, 2], [4, 3], [5, 3], [5, 4]], dtype=np.float32)\n",
    "train_y = np.array([1, 1, 1, 1, 1, 1, 1, 1, 1, 1, 0, 0, 0, 0, 0, 0, 0, 0, 0, 0], dtype=np.compat.long)\n",
    "\n",
    "\n",
    "# 2. Тестируемые данные\n",
    "test_x = np.array([\n",
    "    [1.5, 2.5], [3.5, 4.5], [6.5, 6.5],\n",
    "    [4.5, 1.5], [5.5, 3.5], [7.5, 5.5]], dtype=np.float32)\n",
    "test_y = np.array([1, 1, 1, 0, 0, 0], dtype=np.compat.long)"
   ]
  },
  {
   "cell_type": "code",
   "execution_count": 43,
   "id": "f9d5761c",
   "metadata": {
    "scrolled": true
   },
   "outputs": [
    {
     "name": "stdout",
     "output_type": "stream",
     "text": [
      "Превратим в тензоры:\n",
      "[[1. 2.]\n",
      " [1. 3.]\n",
      " [1. 4.]\n",
      " [1. 5.]\n",
      " [2. 3.]\n",
      " [2. 4.]\n",
      " [2. 5.]\n",
      " [3. 4.]\n",
      " [3. 5.]\n",
      " [4. 5.]\n",
      " [2. 1.]\n",
      " [3. 1.]\n",
      " [4. 1.]\n",
      " [5. 1.]\n",
      " [3. 2.]\n",
      " [4. 2.]\n",
      " [5. 2.]\n",
      " [4. 3.]\n",
      " [5. 3.]\n",
      " [5. 4.]]\n",
      "[1 1 1 1 1 1 1 1 1 1 0 0 0 0 0 0 0 0 0 0]\n"
     ]
    }
   ],
   "source": [
    "print(\"Превратим в тензоры:\")\n",
    "print(train_x)\n",
    "print(train_y)\n",
    "\n",
    "train_x = T.tensor(train_x, dtype=T.float32).to(device)\n",
    "train_y = T.tensor(train_y, dtype=T.long).to(device)\n",
    "\n",
    "test_x = T.tensor(test_x, dtype=T.float32).to(device)\n",
    "test_y = T.tensor(test_y, dtype=T.long).to(device)\n",
    "\n",
    "# print(type(train_x))"
   ]
  },
  {
   "cell_type": "code",
   "execution_count": 44,
   "id": "57c245fb",
   "metadata": {},
   "outputs": [],
   "source": [
    "from sklearn.linear_model import LogisticRegression\n",
    "from lr import LogisticRegression"
   ]
  },
  {
   "cell_type": "code",
   "execution_count": 45,
   "id": "ad9c1a58",
   "metadata": {},
   "outputs": [
    {
     "name": "stdout",
     "output_type": "stream",
     "text": [
      "tensor([0.5591, 1.2778], grad_fn=<AddBackward0>) tensor([0.4873], requires_grad=True)\n"
     ]
    }
   ],
   "source": [
    "my_lr = LogisticRegression(device)\n",
    "\n",
    "lrn_rate = 0.05\n",
    "indices = np.arange(6)\n",
    "\n",
    "w, b = my_lr.fit(\n",
    "    train_x,\n",
    "    train_y,\n",
    "    lrn_rate,\n",
    "    indices,\n",
    "    1000,\n",
    "    0)\n",
    "\n",
    "print(my_lr.w, my_lr.b)"
   ]
  },
  {
   "cell_type": "code",
   "execution_count": 48,
   "id": "aafb1d53",
   "metadata": {},
   "outputs": [],
   "source": [
    "p = my_lr.predict(train_x)"
   ]
  },
  {
   "cell_type": "code",
   "execution_count": 49,
   "id": "a404d9be",
   "metadata": {},
   "outputs": [
    {
     "name": "stdout",
     "output_type": "stream",
     "text": [
      "[0.97345304 0.9924581  0.99788684 0.9994103  0.9956742  0.9987908\n",
      " 0.99966276 0.99930835 0.9998072  0.99988973 0.94701374 0.9690036\n",
      " 0.9820404  0.9896527  0.991165   0.99492973 0.997095   0.998582\n",
      " 0.9991887  0.9997738 ]\n"
     ]
    }
   ],
   "source": [
    "print(p)"
   ]
  },
  {
   "cell_type": "code",
   "execution_count": 40,
   "id": "b7755b53",
   "metadata": {},
   "outputs": [
    {
     "data": {
      "text/plain": [
       "array([-0.02495271, -0.01226807, -0.06722677,  0.00133046,  0.031776  ,\n",
       "        0.0633378 ])"
      ]
     },
     "execution_count": 40,
     "metadata": {},
     "output_type": "execute_result"
    }
   ],
   "source": [
    "p - train_y.numpy()"
   ]
  }
 ],
 "metadata": {
  "kernelspec": {
   "display_name": "Python 3 (ipykernel)",
   "language": "python",
   "name": "python3"
  },
  "language_info": {
   "codemirror_mode": {
    "name": "ipython",
    "version": 3
   },
   "file_extension": ".py",
   "mimetype": "text/x-python",
   "name": "python",
   "nbconvert_exporter": "python",
   "pygments_lexer": "ipython3",
   "version": "3.9.5"
  }
 },
 "nbformat": 4,
 "nbformat_minor": 5
}
