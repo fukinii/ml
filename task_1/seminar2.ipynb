{
 "cells": [
  {
   "cell_type": "markdown",
   "metadata": {
    "id": "K5hqAfFxMAFw"
   },
   "source": [
    "# Семинар 2. Линейная регрессия"
   ]
  },
  {
   "cell_type": "code",
   "execution_count": 24,
   "metadata": {
    "executionInfo": {
     "elapsed": 307,
     "status": "ok",
     "timestamp": 1632224997362,
     "user": {
      "displayName": "Фёдор Владимирович Логинов",
      "photoUrl": "https://lh3.googleusercontent.com/a-/AOh14GjdNonGzv9YW6yPimoNXR0aqfaq41n5-S4szHY-=s64",
      "userId": "08339562223849087461"
     },
     "user_tz": -180
    },
    "id": "BGFZv9MDL8Nn"
   },
   "outputs": [],
   "source": [
    "import numpy as np\n",
    "import pandas as pd\n",
    "import seaborn as sns\n",
    "import matplotlib.pyplot as plt"
   ]
  },
  {
   "cell_type": "markdown",
   "metadata": {},
   "source": [
    "## Physicochemical Properties of Protein Tertiary Structure Data Set\n",
    "\n",
    "RMSD-Size of the residue.\n",
    "\n",
    "F1 - Total surface area.\n",
    "\n",
    "F2 - Non polar exposed area.\n",
    "\n",
    "F3 - Fractional area of exposed non polar residue.\n",
    "\n",
    "F4 - Fractional area of exposed non polar part of residue.\n",
    "\n",
    "F5 - Molecular mass weighted exposed area.\n",
    "\n",
    "F6 - Average deviation from standard exposed area of residue.\n",
    "\n",
    "F7 - Euclidian distance.\n",
    "\n",
    "F8 - Secondary structure penalty.\n",
    "\n",
    "F9 - Spacial Distribution constraints (N,K Value).\n"
   ]
  },
  {
   "cell_type": "markdown",
   "metadata": {
    "id": "scZtLhtxMLwA"
   },
   "source": [
    "Читаем датасет"
   ]
  },
  {
   "cell_type": "code",
   "execution_count": 25,
   "metadata": {
    "id": "JCLy1z1XOWem"
   },
   "outputs": [],
   "source": [
    "data = pd.read_csv('CASP.csv')"
   ]
  },
  {
   "cell_type": "code",
   "execution_count": 26,
   "metadata": {
    "id": "AFkKJ8LxOWhR"
   },
   "outputs": [
    {
     "name": "stdout",
     "output_type": "stream",
     "text": [
      "data.shape =  (45730, 10)\n"
     ]
    },
    {
     "data": {
      "text/html": [
       "<div>\n",
       "<style scoped>\n",
       "    .dataframe tbody tr th:only-of-type {\n",
       "        vertical-align: middle;\n",
       "    }\n",
       "\n",
       "    .dataframe tbody tr th {\n",
       "        vertical-align: top;\n",
       "    }\n",
       "\n",
       "    .dataframe thead th {\n",
       "        text-align: right;\n",
       "    }\n",
       "</style>\n",
       "<table border=\"1\" class=\"dataframe\">\n",
       "  <thead>\n",
       "    <tr style=\"text-align: right;\">\n",
       "      <th></th>\n",
       "      <th>RMSD</th>\n",
       "      <th>F1</th>\n",
       "      <th>F2</th>\n",
       "      <th>F3</th>\n",
       "      <th>F4</th>\n",
       "      <th>F5</th>\n",
       "      <th>F6</th>\n",
       "      <th>F7</th>\n",
       "      <th>F8</th>\n",
       "      <th>F9</th>\n",
       "    </tr>\n",
       "  </thead>\n",
       "  <tbody>\n",
       "    <tr>\n",
       "      <th>0</th>\n",
       "      <td>17.284</td>\n",
       "      <td>13558.30</td>\n",
       "      <td>4305.35</td>\n",
       "      <td>0.31754</td>\n",
       "      <td>162.1730</td>\n",
       "      <td>1.872791e+06</td>\n",
       "      <td>215.3590</td>\n",
       "      <td>4287.87</td>\n",
       "      <td>102</td>\n",
       "      <td>27.0302</td>\n",
       "    </tr>\n",
       "    <tr>\n",
       "      <th>1</th>\n",
       "      <td>6.021</td>\n",
       "      <td>6191.96</td>\n",
       "      <td>1623.16</td>\n",
       "      <td>0.26213</td>\n",
       "      <td>53.3894</td>\n",
       "      <td>8.034467e+05</td>\n",
       "      <td>87.2024</td>\n",
       "      <td>3328.91</td>\n",
       "      <td>39</td>\n",
       "      <td>38.5468</td>\n",
       "    </tr>\n",
       "    <tr>\n",
       "      <th>2</th>\n",
       "      <td>9.275</td>\n",
       "      <td>7725.98</td>\n",
       "      <td>1726.28</td>\n",
       "      <td>0.22343</td>\n",
       "      <td>67.2887</td>\n",
       "      <td>1.075648e+06</td>\n",
       "      <td>81.7913</td>\n",
       "      <td>2981.04</td>\n",
       "      <td>29</td>\n",
       "      <td>38.8119</td>\n",
       "    </tr>\n",
       "    <tr>\n",
       "      <th>3</th>\n",
       "      <td>15.851</td>\n",
       "      <td>8424.58</td>\n",
       "      <td>2368.25</td>\n",
       "      <td>0.28111</td>\n",
       "      <td>67.8325</td>\n",
       "      <td>1.210472e+06</td>\n",
       "      <td>109.4390</td>\n",
       "      <td>3248.22</td>\n",
       "      <td>70</td>\n",
       "      <td>39.0651</td>\n",
       "    </tr>\n",
       "    <tr>\n",
       "      <th>4</th>\n",
       "      <td>7.962</td>\n",
       "      <td>7460.84</td>\n",
       "      <td>1736.94</td>\n",
       "      <td>0.23280</td>\n",
       "      <td>52.4123</td>\n",
       "      <td>1.021020e+06</td>\n",
       "      <td>94.5234</td>\n",
       "      <td>2814.42</td>\n",
       "      <td>41</td>\n",
       "      <td>39.9147</td>\n",
       "    </tr>\n",
       "    <tr>\n",
       "      <th>5</th>\n",
       "      <td>1.700</td>\n",
       "      <td>5117.30</td>\n",
       "      <td>1120.99</td>\n",
       "      <td>0.21905</td>\n",
       "      <td>51.6732</td>\n",
       "      <td>6.727227e+05</td>\n",
       "      <td>79.5911</td>\n",
       "      <td>3234.21</td>\n",
       "      <td>15</td>\n",
       "      <td>41.2382</td>\n",
       "    </tr>\n",
       "    <tr>\n",
       "      <th>6</th>\n",
       "      <td>9.314</td>\n",
       "      <td>5924.16</td>\n",
       "      <td>1625.27</td>\n",
       "      <td>0.27434</td>\n",
       "      <td>70.2103</td>\n",
       "      <td>8.285145e+05</td>\n",
       "      <td>76.8064</td>\n",
       "      <td>2821.40</td>\n",
       "      <td>70</td>\n",
       "      <td>39.4964</td>\n",
       "    </tr>\n",
       "    <tr>\n",
       "      <th>7</th>\n",
       "      <td>1.985</td>\n",
       "      <td>6882.15</td>\n",
       "      <td>1791.22</td>\n",
       "      <td>0.26027</td>\n",
       "      <td>77.2501</td>\n",
       "      <td>9.165165e+05</td>\n",
       "      <td>96.6785</td>\n",
       "      <td>3490.88</td>\n",
       "      <td>74</td>\n",
       "      <td>37.4203</td>\n",
       "    </tr>\n",
       "    <tr>\n",
       "      <th>8</th>\n",
       "      <td>1.915</td>\n",
       "      <td>12090.00</td>\n",
       "      <td>4190.74</td>\n",
       "      <td>0.34662</td>\n",
       "      <td>129.0020</td>\n",
       "      <td>1.687508e+06</td>\n",
       "      <td>186.3090</td>\n",
       "      <td>4262.78</td>\n",
       "      <td>39</td>\n",
       "      <td>30.3916</td>\n",
       "    </tr>\n",
       "    <tr>\n",
       "      <th>9</th>\n",
       "      <td>1.495</td>\n",
       "      <td>7400.24</td>\n",
       "      <td>1881.95</td>\n",
       "      <td>0.25430</td>\n",
       "      <td>82.9320</td>\n",
       "      <td>1.023846e+06</td>\n",
       "      <td>104.6970</td>\n",
       "      <td>3852.40</td>\n",
       "      <td>26</td>\n",
       "      <td>35.4140</td>\n",
       "    </tr>\n",
       "    <tr>\n",
       "      <th>10</th>\n",
       "      <td>12.118</td>\n",
       "      <td>6556.77</td>\n",
       "      <td>1612.77</td>\n",
       "      <td>0.24597</td>\n",
       "      <td>71.6315</td>\n",
       "      <td>8.915443e+05</td>\n",
       "      <td>93.5329</td>\n",
       "      <td>3161.33</td>\n",
       "      <td>76</td>\n",
       "      <td>38.0433</td>\n",
       "    </tr>\n",
       "    <tr>\n",
       "      <th>11</th>\n",
       "      <td>0.884</td>\n",
       "      <td>8828.21</td>\n",
       "      <td>2658.63</td>\n",
       "      <td>0.30115</td>\n",
       "      <td>90.8578</td>\n",
       "      <td>1.233384e+06</td>\n",
       "      <td>123.6860</td>\n",
       "      <td>3194.30</td>\n",
       "      <td>22</td>\n",
       "      <td>37.2413</td>\n",
       "    </tr>\n",
       "    <tr>\n",
       "      <th>12</th>\n",
       "      <td>7.913</td>\n",
       "      <td>5637.37</td>\n",
       "      <td>2665.83</td>\n",
       "      <td>0.47288</td>\n",
       "      <td>49.8566</td>\n",
       "      <td>7.716355e+05</td>\n",
       "      <td>95.7431</td>\n",
       "      <td>2177.61</td>\n",
       "      <td>7</td>\n",
       "      <td>41.5268</td>\n",
       "    </tr>\n",
       "    <tr>\n",
       "      <th>13</th>\n",
       "      <td>14.103</td>\n",
       "      <td>9021.10</td>\n",
       "      <td>3097.91</td>\n",
       "      <td>0.34340</td>\n",
       "      <td>98.1155</td>\n",
       "      <td>1.244160e+06</td>\n",
       "      <td>121.3480</td>\n",
       "      <td>3396.40</td>\n",
       "      <td>32</td>\n",
       "      <td>37.0667</td>\n",
       "    </tr>\n",
       "    <tr>\n",
       "      <th>14</th>\n",
       "      <td>6.581</td>\n",
       "      <td>17572.20</td>\n",
       "      <td>5226.42</td>\n",
       "      <td>0.29742</td>\n",
       "      <td>227.7690</td>\n",
       "      <td>2.434431e+06</td>\n",
       "      <td>296.8000</td>\n",
       "      <td>4876.00</td>\n",
       "      <td>122</td>\n",
       "      <td>26.8169</td>\n",
       "    </tr>\n",
       "    <tr>\n",
       "      <th>15</th>\n",
       "      <td>6.110</td>\n",
       "      <td>12330.60</td>\n",
       "      <td>4380.20</td>\n",
       "      <td>0.35523</td>\n",
       "      <td>195.9300</td>\n",
       "      <td>1.710155e+06</td>\n",
       "      <td>232.1540</td>\n",
       "      <td>4321.41</td>\n",
       "      <td>164</td>\n",
       "      <td>30.4491</td>\n",
       "    </tr>\n",
       "    <tr>\n",
       "      <th>16</th>\n",
       "      <td>1.339</td>\n",
       "      <td>8478.55</td>\n",
       "      <td>2206.94</td>\n",
       "      <td>0.26029</td>\n",
       "      <td>91.5054</td>\n",
       "      <td>1.199770e+06</td>\n",
       "      <td>128.1660</td>\n",
       "      <td>3996.13</td>\n",
       "      <td>164</td>\n",
       "      <td>33.5263</td>\n",
       "    </tr>\n",
       "    <tr>\n",
       "      <th>17</th>\n",
       "      <td>2.554</td>\n",
       "      <td>9147.09</td>\n",
       "      <td>2828.26</td>\n",
       "      <td>0.30919</td>\n",
       "      <td>104.0500</td>\n",
       "      <td>1.291447e+06</td>\n",
       "      <td>131.3580</td>\n",
       "      <td>3595.69</td>\n",
       "      <td>17</td>\n",
       "      <td>35.5938</td>\n",
       "    </tr>\n",
       "    <tr>\n",
       "      <th>18</th>\n",
       "      <td>3.805</td>\n",
       "      <td>3905.51</td>\n",
       "      <td>1102.49</td>\n",
       "      <td>0.28229</td>\n",
       "      <td>34.2034</td>\n",
       "      <td>5.643988e+05</td>\n",
       "      <td>48.1646</td>\n",
       "      <td>1834.36</td>\n",
       "      <td>13</td>\n",
       "      <td>44.5123</td>\n",
       "    </tr>\n",
       "    <tr>\n",
       "      <th>19</th>\n",
       "      <td>18.645</td>\n",
       "      <td>15620.90</td>\n",
       "      <td>5834.18</td>\n",
       "      <td>0.37348</td>\n",
       "      <td>153.4760</td>\n",
       "      <td>2.184645e+06</td>\n",
       "      <td>251.2250</td>\n",
       "      <td>5441.50</td>\n",
       "      <td>101</td>\n",
       "      <td>26.0101</td>\n",
       "    </tr>\n",
       "  </tbody>\n",
       "</table>\n",
       "</div>"
      ],
      "text/plain": [
       "      RMSD        F1       F2       F3        F4            F5        F6  \\\n",
       "0   17.284  13558.30  4305.35  0.31754  162.1730  1.872791e+06  215.3590   \n",
       "1    6.021   6191.96  1623.16  0.26213   53.3894  8.034467e+05   87.2024   \n",
       "2    9.275   7725.98  1726.28  0.22343   67.2887  1.075648e+06   81.7913   \n",
       "3   15.851   8424.58  2368.25  0.28111   67.8325  1.210472e+06  109.4390   \n",
       "4    7.962   7460.84  1736.94  0.23280   52.4123  1.021020e+06   94.5234   \n",
       "5    1.700   5117.30  1120.99  0.21905   51.6732  6.727227e+05   79.5911   \n",
       "6    9.314   5924.16  1625.27  0.27434   70.2103  8.285145e+05   76.8064   \n",
       "7    1.985   6882.15  1791.22  0.26027   77.2501  9.165165e+05   96.6785   \n",
       "8    1.915  12090.00  4190.74  0.34662  129.0020  1.687508e+06  186.3090   \n",
       "9    1.495   7400.24  1881.95  0.25430   82.9320  1.023846e+06  104.6970   \n",
       "10  12.118   6556.77  1612.77  0.24597   71.6315  8.915443e+05   93.5329   \n",
       "11   0.884   8828.21  2658.63  0.30115   90.8578  1.233384e+06  123.6860   \n",
       "12   7.913   5637.37  2665.83  0.47288   49.8566  7.716355e+05   95.7431   \n",
       "13  14.103   9021.10  3097.91  0.34340   98.1155  1.244160e+06  121.3480   \n",
       "14   6.581  17572.20  5226.42  0.29742  227.7690  2.434431e+06  296.8000   \n",
       "15   6.110  12330.60  4380.20  0.35523  195.9300  1.710155e+06  232.1540   \n",
       "16   1.339   8478.55  2206.94  0.26029   91.5054  1.199770e+06  128.1660   \n",
       "17   2.554   9147.09  2828.26  0.30919  104.0500  1.291447e+06  131.3580   \n",
       "18   3.805   3905.51  1102.49  0.28229   34.2034  5.643988e+05   48.1646   \n",
       "19  18.645  15620.90  5834.18  0.37348  153.4760  2.184645e+06  251.2250   \n",
       "\n",
       "         F7   F8       F9  \n",
       "0   4287.87  102  27.0302  \n",
       "1   3328.91   39  38.5468  \n",
       "2   2981.04   29  38.8119  \n",
       "3   3248.22   70  39.0651  \n",
       "4   2814.42   41  39.9147  \n",
       "5   3234.21   15  41.2382  \n",
       "6   2821.40   70  39.4964  \n",
       "7   3490.88   74  37.4203  \n",
       "8   4262.78   39  30.3916  \n",
       "9   3852.40   26  35.4140  \n",
       "10  3161.33   76  38.0433  \n",
       "11  3194.30   22  37.2413  \n",
       "12  2177.61    7  41.5268  \n",
       "13  3396.40   32  37.0667  \n",
       "14  4876.00  122  26.8169  \n",
       "15  4321.41  164  30.4491  \n",
       "16  3996.13  164  33.5263  \n",
       "17  3595.69   17  35.5938  \n",
       "18  1834.36   13  44.5123  \n",
       "19  5441.50  101  26.0101  "
      ]
     },
     "execution_count": 26,
     "metadata": {},
     "output_type": "execute_result"
    }
   ],
   "source": [
    "print(\"data.shape = \", data.shape)\n",
    "data.head(20)"
   ]
  },
  {
   "cell_type": "code",
   "execution_count": 27,
   "metadata": {},
   "outputs": [],
   "source": [
    "data = data.dropna()"
   ]
  },
  {
   "cell_type": "code",
   "execution_count": 28,
   "metadata": {},
   "outputs": [
    {
     "name": "stdout",
     "output_type": "stream",
     "text": [
      "data.shape =  (45730, 10)\n"
     ]
    },
    {
     "data": {
      "text/html": [
       "<div>\n",
       "<style scoped>\n",
       "    .dataframe tbody tr th:only-of-type {\n",
       "        vertical-align: middle;\n",
       "    }\n",
       "\n",
       "    .dataframe tbody tr th {\n",
       "        vertical-align: top;\n",
       "    }\n",
       "\n",
       "    .dataframe thead th {\n",
       "        text-align: right;\n",
       "    }\n",
       "</style>\n",
       "<table border=\"1\" class=\"dataframe\">\n",
       "  <thead>\n",
       "    <tr style=\"text-align: right;\">\n",
       "      <th></th>\n",
       "      <th>RMSD</th>\n",
       "      <th>F1</th>\n",
       "      <th>F2</th>\n",
       "      <th>F3</th>\n",
       "      <th>F4</th>\n",
       "      <th>F5</th>\n",
       "      <th>F6</th>\n",
       "      <th>F7</th>\n",
       "      <th>F8</th>\n",
       "      <th>F9</th>\n",
       "    </tr>\n",
       "  </thead>\n",
       "  <tbody>\n",
       "    <tr>\n",
       "      <th>0</th>\n",
       "      <td>17.284</td>\n",
       "      <td>13558.30</td>\n",
       "      <td>4305.35</td>\n",
       "      <td>0.31754</td>\n",
       "      <td>162.1730</td>\n",
       "      <td>1.872791e+06</td>\n",
       "      <td>215.3590</td>\n",
       "      <td>4287.87</td>\n",
       "      <td>102</td>\n",
       "      <td>27.0302</td>\n",
       "    </tr>\n",
       "    <tr>\n",
       "      <th>1</th>\n",
       "      <td>6.021</td>\n",
       "      <td>6191.96</td>\n",
       "      <td>1623.16</td>\n",
       "      <td>0.26213</td>\n",
       "      <td>53.3894</td>\n",
       "      <td>8.034467e+05</td>\n",
       "      <td>87.2024</td>\n",
       "      <td>3328.91</td>\n",
       "      <td>39</td>\n",
       "      <td>38.5468</td>\n",
       "    </tr>\n",
       "    <tr>\n",
       "      <th>2</th>\n",
       "      <td>9.275</td>\n",
       "      <td>7725.98</td>\n",
       "      <td>1726.28</td>\n",
       "      <td>0.22343</td>\n",
       "      <td>67.2887</td>\n",
       "      <td>1.075648e+06</td>\n",
       "      <td>81.7913</td>\n",
       "      <td>2981.04</td>\n",
       "      <td>29</td>\n",
       "      <td>38.8119</td>\n",
       "    </tr>\n",
       "    <tr>\n",
       "      <th>3</th>\n",
       "      <td>15.851</td>\n",
       "      <td>8424.58</td>\n",
       "      <td>2368.25</td>\n",
       "      <td>0.28111</td>\n",
       "      <td>67.8325</td>\n",
       "      <td>1.210472e+06</td>\n",
       "      <td>109.4390</td>\n",
       "      <td>3248.22</td>\n",
       "      <td>70</td>\n",
       "      <td>39.0651</td>\n",
       "    </tr>\n",
       "    <tr>\n",
       "      <th>4</th>\n",
       "      <td>7.962</td>\n",
       "      <td>7460.84</td>\n",
       "      <td>1736.94</td>\n",
       "      <td>0.23280</td>\n",
       "      <td>52.4123</td>\n",
       "      <td>1.021020e+06</td>\n",
       "      <td>94.5234</td>\n",
       "      <td>2814.42</td>\n",
       "      <td>41</td>\n",
       "      <td>39.9147</td>\n",
       "    </tr>\n",
       "    <tr>\n",
       "      <th>5</th>\n",
       "      <td>1.700</td>\n",
       "      <td>5117.30</td>\n",
       "      <td>1120.99</td>\n",
       "      <td>0.21905</td>\n",
       "      <td>51.6732</td>\n",
       "      <td>6.727227e+05</td>\n",
       "      <td>79.5911</td>\n",
       "      <td>3234.21</td>\n",
       "      <td>15</td>\n",
       "      <td>41.2382</td>\n",
       "    </tr>\n",
       "    <tr>\n",
       "      <th>6</th>\n",
       "      <td>9.314</td>\n",
       "      <td>5924.16</td>\n",
       "      <td>1625.27</td>\n",
       "      <td>0.27434</td>\n",
       "      <td>70.2103</td>\n",
       "      <td>8.285145e+05</td>\n",
       "      <td>76.8064</td>\n",
       "      <td>2821.40</td>\n",
       "      <td>70</td>\n",
       "      <td>39.4964</td>\n",
       "    </tr>\n",
       "    <tr>\n",
       "      <th>7</th>\n",
       "      <td>1.985</td>\n",
       "      <td>6882.15</td>\n",
       "      <td>1791.22</td>\n",
       "      <td>0.26027</td>\n",
       "      <td>77.2501</td>\n",
       "      <td>9.165165e+05</td>\n",
       "      <td>96.6785</td>\n",
       "      <td>3490.88</td>\n",
       "      <td>74</td>\n",
       "      <td>37.4203</td>\n",
       "    </tr>\n",
       "    <tr>\n",
       "      <th>8</th>\n",
       "      <td>1.915</td>\n",
       "      <td>12090.00</td>\n",
       "      <td>4190.74</td>\n",
       "      <td>0.34662</td>\n",
       "      <td>129.0020</td>\n",
       "      <td>1.687508e+06</td>\n",
       "      <td>186.3090</td>\n",
       "      <td>4262.78</td>\n",
       "      <td>39</td>\n",
       "      <td>30.3916</td>\n",
       "    </tr>\n",
       "    <tr>\n",
       "      <th>9</th>\n",
       "      <td>1.495</td>\n",
       "      <td>7400.24</td>\n",
       "      <td>1881.95</td>\n",
       "      <td>0.25430</td>\n",
       "      <td>82.9320</td>\n",
       "      <td>1.023846e+06</td>\n",
       "      <td>104.6970</td>\n",
       "      <td>3852.40</td>\n",
       "      <td>26</td>\n",
       "      <td>35.4140</td>\n",
       "    </tr>\n",
       "  </tbody>\n",
       "</table>\n",
       "</div>"
      ],
      "text/plain": [
       "     RMSD        F1       F2       F3        F4            F5        F6  \\\n",
       "0  17.284  13558.30  4305.35  0.31754  162.1730  1.872791e+06  215.3590   \n",
       "1   6.021   6191.96  1623.16  0.26213   53.3894  8.034467e+05   87.2024   \n",
       "2   9.275   7725.98  1726.28  0.22343   67.2887  1.075648e+06   81.7913   \n",
       "3  15.851   8424.58  2368.25  0.28111   67.8325  1.210472e+06  109.4390   \n",
       "4   7.962   7460.84  1736.94  0.23280   52.4123  1.021020e+06   94.5234   \n",
       "5   1.700   5117.30  1120.99  0.21905   51.6732  6.727227e+05   79.5911   \n",
       "6   9.314   5924.16  1625.27  0.27434   70.2103  8.285145e+05   76.8064   \n",
       "7   1.985   6882.15  1791.22  0.26027   77.2501  9.165165e+05   96.6785   \n",
       "8   1.915  12090.00  4190.74  0.34662  129.0020  1.687508e+06  186.3090   \n",
       "9   1.495   7400.24  1881.95  0.25430   82.9320  1.023846e+06  104.6970   \n",
       "\n",
       "        F7   F8       F9  \n",
       "0  4287.87  102  27.0302  \n",
       "1  3328.91   39  38.5468  \n",
       "2  2981.04   29  38.8119  \n",
       "3  3248.22   70  39.0651  \n",
       "4  2814.42   41  39.9147  \n",
       "5  3234.21   15  41.2382  \n",
       "6  2821.40   70  39.4964  \n",
       "7  3490.88   74  37.4203  \n",
       "8  4262.78   39  30.3916  \n",
       "9  3852.40   26  35.4140  "
      ]
     },
     "execution_count": 28,
     "metadata": {},
     "output_type": "execute_result"
    }
   ],
   "source": [
    "print(\"data.shape = \", data.shape)\n",
    "data.head(10)"
   ]
  },
  {
   "cell_type": "code",
   "execution_count": 50,
   "metadata": {},
   "outputs": [
    {
     "data": {
      "text/plain": [
       "<AxesSubplot:>"
      ]
     },
     "execution_count": 50,
     "metadata": {},
     "output_type": "execute_result"
    },
    {
     "data": {
      "image/png": "[encoded data removed]",
      "text/plain": [
       "<Figure size 432x288 with 2 Axes>"
      ]
     },
     "metadata": {
      "needs_background": "light"
     },
     "output_type": "display_data"
    }
   ],
   "source": [
    "list_of_column_names = data.columns\n",
    "sns.heatmap(data[list_of_column_names].corr(method=\"pearson\"))"
   ]
  },
  {
   "cell_type": "markdown",
   "metadata": {},
   "source": [
    "#### Нормализация"
   ]
  },
  {
   "cell_type": "code",
   "execution_count": 30,
   "metadata": {},
   "outputs": [],
   "source": [
    "data = (data - data.mean()) / data.std()"
   ]
  },
  {
   "cell_type": "code",
   "execution_count": 31,
   "metadata": {},
   "outputs": [
    {
     "name": "stdout",
     "output_type": "stream",
     "text": [
      "data.shape =  (45730, 10)\n"
     ]
    },
    {
     "data": {
      "text/html": [
       "<div>\n",
       "<style scoped>\n",
       "    .dataframe tbody tr th:only-of-type {\n",
       "        vertical-align: middle;\n",
       "    }\n",
       "\n",
       "    .dataframe tbody tr th {\n",
       "        vertical-align: top;\n",
       "    }\n",
       "\n",
       "    .dataframe thead th {\n",
       "        text-align: right;\n",
       "    }\n",
       "</style>\n",
       "<table border=\"1\" class=\"dataframe\">\n",
       "  <thead>\n",
       "    <tr style=\"text-align: right;\">\n",
       "      <th></th>\n",
       "      <th>RMSD</th>\n",
       "      <th>F1</th>\n",
       "      <th>F2</th>\n",
       "      <th>F3</th>\n",
       "      <th>F4</th>\n",
       "      <th>F5</th>\n",
       "      <th>F6</th>\n",
       "      <th>F7</th>\n",
       "      <th>F8</th>\n",
       "      <th>F9</th>\n",
       "    </tr>\n",
       "  </thead>\n",
       "  <tbody>\n",
       "    <tr>\n",
       "      <th>0</th>\n",
       "      <td>1.558514</td>\n",
       "      <td>0.908472</td>\n",
       "      <td>0.879575</td>\n",
       "      <td>0.240883</td>\n",
       "      <td>1.058739</td>\n",
       "      <td>0.894430</td>\n",
       "      <td>0.996024</td>\n",
       "      <td>0.149537</td>\n",
       "      <td>0.566879</td>\n",
       "      <td>-1.253139</td>\n",
       "    </tr>\n",
       "    <tr>\n",
       "      <th>1</th>\n",
       "      <td>-0.282354</td>\n",
       "      <td>-0.906730</td>\n",
       "      <td>-0.952116</td>\n",
       "      <td>-0.640238</td>\n",
       "      <td>-0.903979</td>\n",
       "      <td>-1.001446</td>\n",
       "      <td>-0.834804</td>\n",
       "      <td>-0.331488</td>\n",
       "      <td>-0.548295</td>\n",
       "      <td>0.672793</td>\n",
       "    </tr>\n",
       "    <tr>\n",
       "      <th>2</th>\n",
       "      <td>0.249492</td>\n",
       "      <td>-0.528720</td>\n",
       "      <td>-0.881695</td>\n",
       "      <td>-1.255639</td>\n",
       "      <td>-0.653202</td>\n",
       "      <td>-0.518852</td>\n",
       "      <td>-0.912107</td>\n",
       "      <td>-0.505984</td>\n",
       "      <td>-0.725307</td>\n",
       "      <td>0.717126</td>\n",
       "    </tr>\n",
       "    <tr>\n",
       "      <th>3</th>\n",
       "      <td>1.324299</td>\n",
       "      <td>-0.356572</td>\n",
       "      <td>-0.443288</td>\n",
       "      <td>-0.338421</td>\n",
       "      <td>-0.643391</td>\n",
       "      <td>-0.279818</td>\n",
       "      <td>-0.517135</td>\n",
       "      <td>-0.371963</td>\n",
       "      <td>0.000441</td>\n",
       "      <td>0.759469</td>\n",
       "    </tr>\n",
       "    <tr>\n",
       "      <th>4</th>\n",
       "      <td>0.034891</td>\n",
       "      <td>-0.594055</td>\n",
       "      <td>-0.874415</td>\n",
       "      <td>-1.106638</td>\n",
       "      <td>-0.921608</td>\n",
       "      <td>-0.615703</td>\n",
       "      <td>-0.730217</td>\n",
       "      <td>-0.589562</td>\n",
       "      <td>-0.512893</td>\n",
       "      <td>0.901548</td>\n",
       "    </tr>\n",
       "    <tr>\n",
       "      <th>5</th>\n",
       "      <td>-0.988594</td>\n",
       "      <td>-1.171546</td>\n",
       "      <td>-1.295052</td>\n",
       "      <td>-1.325289</td>\n",
       "      <td>-0.934944</td>\n",
       "      <td>-1.233211</td>\n",
       "      <td>-0.943538</td>\n",
       "      <td>-0.378991</td>\n",
       "      <td>-0.973123</td>\n",
       "      <td>1.122878</td>\n",
       "    </tr>\n",
       "    <tr>\n",
       "      <th>6</th>\n",
       "      <td>0.255867</td>\n",
       "      <td>-0.972721</td>\n",
       "      <td>-0.950675</td>\n",
       "      <td>-0.446076</td>\n",
       "      <td>-0.600490</td>\n",
       "      <td>-0.957002</td>\n",
       "      <td>-0.983320</td>\n",
       "      <td>-0.586061</td>\n",
       "      <td>0.000441</td>\n",
       "      <td>0.831595</td>\n",
       "    </tr>\n",
       "    <tr>\n",
       "      <th>7</th>\n",
       "      <td>-0.942013</td>\n",
       "      <td>-0.736655</td>\n",
       "      <td>-0.837347</td>\n",
       "      <td>-0.669815</td>\n",
       "      <td>-0.473475</td>\n",
       "      <td>-0.800981</td>\n",
       "      <td>-0.699430</td>\n",
       "      <td>-0.250242</td>\n",
       "      <td>0.071246</td>\n",
       "      <td>0.484407</td>\n",
       "    </tr>\n",
       "    <tr>\n",
       "      <th>8</th>\n",
       "      <td>-0.953454</td>\n",
       "      <td>0.546655</td>\n",
       "      <td>0.801306</td>\n",
       "      <td>0.703308</td>\n",
       "      <td>0.460254</td>\n",
       "      <td>0.565937</td>\n",
       "      <td>0.581020</td>\n",
       "      <td>0.136952</td>\n",
       "      <td>-0.548295</td>\n",
       "      <td>-0.691009</td>\n",
       "    </tr>\n",
       "    <tr>\n",
       "      <th>9</th>\n",
       "      <td>-1.022100</td>\n",
       "      <td>-0.608988</td>\n",
       "      <td>-0.775386</td>\n",
       "      <td>-0.764749</td>\n",
       "      <td>-0.370960</td>\n",
       "      <td>-0.610693</td>\n",
       "      <td>-0.584879</td>\n",
       "      <td>-0.068899</td>\n",
       "      <td>-0.778410</td>\n",
       "      <td>0.148892</td>\n",
       "    </tr>\n",
       "  </tbody>\n",
       "</table>\n",
       "</div>"
      ],
      "text/plain": [
       "       RMSD        F1        F2        F3        F4        F5        F6  \\\n",
       "0  1.558514  0.908472  0.879575  0.240883  1.058739  0.894430  0.996024   \n",
       "1 -0.282354 -0.906730 -0.952116 -0.640238 -0.903979 -1.001446 -0.834804   \n",
       "2  0.249492 -0.528720 -0.881695 -1.255639 -0.653202 -0.518852 -0.912107   \n",
       "3  1.324299 -0.356572 -0.443288 -0.338421 -0.643391 -0.279818 -0.517135   \n",
       "4  0.034891 -0.594055 -0.874415 -1.106638 -0.921608 -0.615703 -0.730217   \n",
       "5 -0.988594 -1.171546 -1.295052 -1.325289 -0.934944 -1.233211 -0.943538   \n",
       "6  0.255867 -0.972721 -0.950675 -0.446076 -0.600490 -0.957002 -0.983320   \n",
       "7 -0.942013 -0.736655 -0.837347 -0.669815 -0.473475 -0.800981 -0.699430   \n",
       "8 -0.953454  0.546655  0.801306  0.703308  0.460254  0.565937  0.581020   \n",
       "9 -1.022100 -0.608988 -0.775386 -0.764749 -0.370960 -0.610693 -0.584879   \n",
       "\n",
       "         F7        F8        F9  \n",
       "0  0.149537  0.566879 -1.253139  \n",
       "1 -0.331488 -0.548295  0.672793  \n",
       "2 -0.505984 -0.725307  0.717126  \n",
       "3 -0.371963  0.000441  0.759469  \n",
       "4 -0.589562 -0.512893  0.901548  \n",
       "5 -0.378991 -0.973123  1.122878  \n",
       "6 -0.586061  0.000441  0.831595  \n",
       "7 -0.250242  0.071246  0.484407  \n",
       "8  0.136952 -0.548295 -0.691009  \n",
       "9 -0.068899 -0.778410  0.148892  "
      ]
     },
     "execution_count": 31,
     "metadata": {},
     "output_type": "execute_result"
    }
   ],
   "source": [
    "print(\"data.shape = \", data.shape)\n",
    "data.head(10)"
   ]
  },
  {
   "cell_type": "markdown",
   "metadata": {},
   "source": [
    "Разбиваем данные тест и трейн"
   ]
  },
  {
   "cell_type": "code",
   "execution_count": 41,
   "metadata": {},
   "outputs": [],
   "source": [
    "from sklearn.model_selection import train_test_split"
   ]
  },
  {
   "cell_type": "code",
   "execution_count": 48,
   "metadata": {},
   "outputs": [],
   "source": [
    "X_train, X_test, y_train, y_test = train_test_split(data[['F1','F2', 'F3']], data['F6'], test_size=0.33)"
   ]
  },
  {
   "cell_type": "code",
   "execution_count": null,
   "metadata": {},
   "outputs": [],
   "source": []
  },
  {
   "cell_type": "markdown",
   "metadata": {},
   "source": [
    "Линейная регрессия"
   ]
  },
  {
   "cell_type": "code",
   "execution_count": 13,
   "metadata": {},
   "outputs": [],
   "source": [
    "from sklearn.linear_model import LinearRegression\n",
    "from sklearn.metrics import mean_squared_error, explained_variance_score"
   ]
  },
  {
   "cell_type": "code",
   "execution_count": 14,
   "metadata": {},
   "outputs": [],
   "source": [
    "model = LinearRegression(normalize=True)\n",
    "model.fit(X_train, y_train)\n",
    "predictions = model.predict(X_test)"
   ]
  },
  {
   "cell_type": "code",
   "execution_count": 15,
   "metadata": {},
   "outputs": [
    {
     "data": {
      "text/plain": [
       "(array([-1.42963117,  0.74580419, -0.0728172 , ...,  0.59755097,\n",
       "        -1.09853171, -0.9372469 ]),\n",
       " 38810   -1.381006\n",
       " 44175    1.046939\n",
       " 15860   -0.120545\n",
       " 36812   -0.582179\n",
       " 3119    -0.327576\n",
       "            ...   \n",
       " 14562    2.448740\n",
       " 15888   -1.165724\n",
       " 1765     0.302131\n",
       " 9572    -1.153512\n",
       " 20620   -1.056874\n",
       " Name: F6, Length: 15091, dtype: float64)"
      ]
     },
     "execution_count": 15,
     "metadata": {},
     "output_type": "execute_result"
    }
   ],
   "source": [
    "predictions, y_test"
   ]
  },
  {
   "cell_type": "code",
   "execution_count": 16,
   "metadata": {},
   "outputs": [
    {
     "data": {
      "text/plain": [
       "0.05884925754638762"
      ]
     },
     "execution_count": 16,
     "metadata": {},
     "output_type": "execute_result"
    }
   ],
   "source": [
    "mean_squared_error(predictions, y_test)"
   ]
  },
  {
   "cell_type": "code",
   "execution_count": null,
   "metadata": {},
   "outputs": [],
   "source": []
  },
  {
   "cell_type": "markdown",
   "metadata": {},
   "source": [
    "#### Коэффициенты модели"
   ]
  },
  {
   "cell_type": "code",
   "execution_count": 17,
   "metadata": {},
   "outputs": [
    {
     "name": "stdout",
     "output_type": "stream",
     "text": [
      "w_0 =  -0.0002282248594286931\n",
      "w_1 =  0.805523775011672\n"
     ]
    }
   ],
   "source": [
    "w_0 = model.intercept_\n",
    "w_1 = model.coef_[0]\n",
    "print(\"w_0 = \", w_0)\n",
    "print(\"w_1 = \", w_1)"
   ]
  },
  {
   "cell_type": "code",
   "execution_count": 18,
   "metadata": {},
   "outputs": [
    {
     "data": {
      "text/plain": [
       "array([0.80552378, 0.17873272])"
      ]
     },
     "execution_count": 18,
     "metadata": {},
     "output_type": "execute_result"
    }
   ],
   "source": [
    "model.coef_"
   ]
  },
  {
   "cell_type": "code",
   "execution_count": 19,
   "metadata": {},
   "outputs": [
    {
     "data": {
      "image/png": "[encoded data removed]",
      "text/plain": [
       "<Figure size 432x288 with 1 Axes>"
      ]
     },
     "metadata": {
      "needs_background": "light"
     },
     "output_type": "display_data"
    }
   ],
   "source": [
    "f = lambda x: w_0 + w_1 * x\n",
    "x = np.linspace(-2, 8, 100)\n",
    "y_1 = f(x)\n",
    "\n",
    "data.plot(x='F1', y='F6', kind='scatter')\n",
    "plt.plot(x, y_1, label='linreg', color='g')\n",
    "\n",
    "plt.ylabel('F1')\n",
    "plt.xlabel('F6')\n",
    "plt.legend(loc='upper left')\n",
    "plt.show()"
   ]
  },
  {
   "cell_type": "markdown",
   "metadata": {},
   "source": [
    "Используем все данные"
   ]
  },
  {
   "cell_type": "code",
   "execution_count": 20,
   "metadata": {},
   "outputs": [],
   "source": [
    "X_train, X_test, y_train, y_test = train_test_split(data.drop(['F6'], axis=1), data['F6'], test_size=0.33)"
   ]
  },
  {
   "cell_type": "code",
   "execution_count": 21,
   "metadata": {},
   "outputs": [],
   "source": [
    "model = LinearRegression(normalize=True)\n",
    "model.fit(X_train, y_train)\n",
    "predictions = model.predict(X_test)"
   ]
  },
  {
   "cell_type": "code",
   "execution_count": 22,
   "metadata": {},
   "outputs": [
    {
     "data": {
      "text/plain": [
       "0.03846939994339679"
      ]
     },
     "execution_count": 22,
     "metadata": {},
     "output_type": "execute_result"
    }
   ],
   "source": [
    "mean_squared_error(predictions, y_test)"
   ]
  },
  {
   "cell_type": "code",
   "execution_count": 23,
   "metadata": {},
   "outputs": [
    {
     "data": {
      "text/plain": [
       "array([-0.0164201 ,  0.97738821,  0.24124116,  0.01878095,  0.34318578,\n",
       "       -0.56870271,  0.01342677,  0.00890224, -0.00384075])"
      ]
     },
     "execution_count": 23,
     "metadata": {},
     "output_type": "execute_result"
    }
   ],
   "source": [
    "model.coef_"
   ]
  },
  {
   "cell_type": "code",
   "execution_count": null,
   "metadata": {},
   "outputs": [],
   "source": []
  }
 ],
 "metadata": {
  "colab": {
   "authorship_tag": "ABX9TyONHmzQ9XLv5CpYt4Phal2X",
   "name": "seminar2.ipynb",
   "provenance": []
  },
  "kernelspec": {
   "display_name": "Python 3",
   "language": "python",
   "name": "python3"
  },
  "language_info": {
   "codemirror_mode": {
    "name": "ipython",
    "version": 3
   },
   "file_extension": ".py",
   "mimetype": "text/x-python",
   "name": "python",
   "nbconvert_exporter": "python",
   "pygments_lexer": "ipython3",
   "version": "3.8.10"
  }
 },
 "nbformat": 4,
 "nbformat_minor": 1
}
