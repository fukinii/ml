{
 "cells": [
  {
   "cell_type": "code",
   "execution_count": 1,
   "id": "d9ca9d0a",
   "metadata": {},
   "outputs": [],
   "source": [
    "import numpy as np\n",
    "import sklearn\n",
    "import pandas as pd\n",
    "import pickle\n",
    "import matplotlib.pyplot as plt\n",
    "from sklearn.model_selection import train_test_split\n",
    "from sklearn.tree import DecisionTreeClassifier"
   ]
  },
  {
   "cell_type": "code",
   "execution_count": 2,
   "id": "c06ff075",
   "metadata": {},
   "outputs": [],
   "source": [
    "data_pd = pd.read_csv('data/data_cut_1000.csv')"
   ]
  },
  {
   "cell_type": "markdown",
   "id": "349c3c6c",
   "metadata": {},
   "source": [
    "##### Предварительно обработаем таблицу: выкинем наны, вопросительные знаки и заменим неравенства, задающие классы на числа 0 и 1"
   ]
  },
  {
   "cell_type": "code",
   "execution_count": 3,
   "id": "d4134409",
   "metadata": {},
   "outputs": [
    {
     "name": "stdout",
     "output_type": "stream",
     "text": [
      "<class 'pandas.core.frame.DataFrame'>\n",
      "Int64Index: 999 entries, 0 to 998\n",
      "Data columns (total 15 columns):\n",
      " #   Column          Non-Null Count  Dtype \n",
      "---  ------          --------------  ----- \n",
      " 0   Age             999 non-null    int64 \n",
      " 1   Workclass       999 non-null    object\n",
      " 2   Fnlwgt          999 non-null    int64 \n",
      " 3   Education       999 non-null    object\n",
      " 4   Education-num   999 non-null    int64 \n",
      " 5   Marital-status  999 non-null    object\n",
      " 6   Occupation      999 non-null    object\n",
      " 7   Relationship    999 non-null    object\n",
      " 8   Race            999 non-null    object\n",
      " 9   Sex             999 non-null    object\n",
      " 10  Capital-gain    999 non-null    int64 \n",
      " 11  Capital-loss    999 non-null    int64 \n",
      " 12  Hours-per-week  999 non-null    int64 \n",
      " 13  Native-country  999 non-null    object\n",
      " 14  Money           999 non-null    object\n",
      "dtypes: int64(6), object(9)\n",
      "memory usage: 124.9+ KB\n"
     ]
    }
   ],
   "source": [
    "data_pd = data_pd.dropna()\n",
    "data_pd.info()\n",
    "\n",
    "a = set()\n",
    "for index, row in data_pd.iterrows():\n",
    "    for item in row:\n",
    "        if item == \" ?\":\n",
    "            a.add(index)\n",
    "\n",
    "data_pd.drop(list(a), axis=0, inplace=True)\n",
    "\n",
    "data_pd['Money'] = (data_pd['Money'] == \" <=50K\").astype('int64')"
   ]
  },
  {
   "cell_type": "code",
   "execution_count": 4,
   "id": "f9da1485",
   "metadata": {},
   "outputs": [],
   "source": [
    "X = data_pd.drop(['Money'], axis=1)\n",
    "y = data_pd['Money']"
   ]
  },
  {
   "cell_type": "markdown",
   "id": "eb21ecf2",
   "metadata": {},
   "source": [
    "##### Разобьем данные:"
   ]
  },
  {
   "cell_type": "code",
   "execution_count": 5,
   "id": "2625467f",
   "metadata": {},
   "outputs": [],
   "source": [
    "X_train, X_test, y_train, y_test = train_test_split(X, y, test_size=0.33)"
   ]
  },
  {
   "cell_type": "markdown",
   "id": "ed5febdd",
   "metadata": {},
   "source": [
    "##### Обучим кастомное дерево решений: "
   ]
  },
  {
   "cell_type": "code",
   "execution_count": 6,
   "id": "87a572ea",
   "metadata": {},
   "outputs": [],
   "source": [
    "from src.decision_tree import DecisionTree\n",
    "\n",
    "my_ds = DecisionTree(max_depth=5, min_node_size=20)\n",
    "root_train_pd = my_ds.fit(X_train, y_train)\n",
    "\n",
    "# with open('data/my_ds_1000_all_5_5_.pickle', 'wb') as f:\n",
    "#     pickle.dump(my_ds, f)"
   ]
  },
  {
   "cell_type": "markdown",
   "id": "2eb9d43d",
   "metadata": {},
   "source": [
    "##### И посмотрим на ошибку"
   ]
  },
  {
   "cell_type": "code",
   "execution_count": 8,
   "id": "5ca24d3e",
   "metadata": {},
   "outputs": [
    {
     "name": "stdout",
     "output_type": "stream",
     "text": [
      "accuracy =  0.8125\n",
      "\n"
     ]
    }
   ],
   "source": [
    "predictions, accuracy = my_ds.predict(X_test, y_test)\n",
    "\n",
    "print(\"accuracy = \", accuracy)\n",
    "print()\n"
   ]
  },
  {
   "cell_type": "markdown",
   "id": "a804ec16",
   "metadata": {},
   "source": [
    "##### По желанию отрисуем дерево:"
   ]
  },
  {
   "cell_type": "code",
   "execution_count": 10,
   "id": "b5bafaa3",
   "metadata": {},
   "outputs": [
    {
     "name": "stdout",
     "output_type": "stream",
     "text": [
      " Marital-status  =   Married-civ-spouse\n",
      "— Education-num < 11\n",
      "—— Capital-gain < 5178\n",
      "——— Age < 34\n",
      "———— Occupation  =   Transport-moving\n",
      "————— 1\n",
      "————— 1\n",
      "———— Workclass  =   Self-emp-inc ||  Federal-gov\n",
      "————— 0\n",
      "————— 1\n",
      "——— 0\n",
      "—— Occupation  =   Other-service ||  Exec-managerial\n",
      "——— Workclass  =   Local-gov ||  Private\n",
      "———— Age < 41\n",
      "————— 0\n",
      "————— 0\n",
      "———— 1\n",
      "——— Education  =   Prof-school ||  Doctorate\n",
      "———— 0\n",
      "———— Capital-gain < 7298\n",
      "————— 1\n",
      "————— 0\n",
      "— Capital-gain < 8614\n",
      "—— Education  =   Doctorate ||  Masters ||  7th-8th\n",
      "——— 1\n",
      "——— Occupation  =   Exec-managerial ||  Protective-serv\n",
      "———— Age < 37\n",
      "————— 1\n",
      "————— 1\n",
      "———— Workclass  =   Federal-gov\n",
      "————— 1\n",
      "————— 1\n",
      "—— 0\n"
     ]
    }
   ],
   "source": [
    "my_ds.draw(my_ds.root, X.columns, 0)"
   ]
  },
  {
   "cell_type": "markdown",
   "id": "48685264",
   "metadata": {},
   "source": [
    "##### Далее - обучим библиотечное дерево и посмотрим на ошибку"
   ]
  },
  {
   "cell_type": "code",
   "execution_count": 11,
   "id": "ff6d04fa",
   "metadata": {},
   "outputs": [
    {
     "name": "stdout",
     "output_type": "stream",
     "text": [
      "<class 'pandas.core.frame.DataFrame'>\n",
      "Int64Index: 617 entries, 906 to 117\n",
      "Data columns (total 14 columns):\n",
      " #   Column          Non-Null Count  Dtype\n",
      "---  ------          --------------  -----\n",
      " 0   Age             617 non-null    int64\n",
      " 1   Workclass       617 non-null    int64\n",
      " 2   Fnlwgt          617 non-null    int64\n",
      " 3   Education       617 non-null    int64\n",
      " 4   Education-num   617 non-null    int64\n",
      " 5   Marital-status  617 non-null    int64\n",
      " 6   Occupation      617 non-null    int64\n",
      " 7   Relationship    617 non-null    int64\n",
      " 8   Race            617 non-null    int64\n",
      " 9   Sex             617 non-null    int64\n",
      " 10  Capital-gain    617 non-null    int64\n",
      " 11  Capital-loss    617 non-null    int64\n",
      " 12  Hours-per-week  617 non-null    int64\n",
      " 13  Native-country  617 non-null    int64\n",
      "dtypes: int64(14)\n",
      "memory usage: 72.3 KB\n"
     ]
    }
   ],
   "source": [
    "from sklearn import preprocessing\n",
    "le = preprocessing.LabelEncoder()\n",
    "X_train = X_train.apply(le.fit_transform)\n",
    "X_test = X_test.apply(le.fit_transform)\n",
    "y_test = y_test.to_numpy()\n",
    "X_train.info()"
   ]
  },
  {
   "cell_type": "code",
   "execution_count": 12,
   "id": "772b8194",
   "metadata": {},
   "outputs": [
    {
     "data": {
      "text/plain": [
       "DecisionTreeClassifier(max_depth=5, random_state=42)"
      ]
     },
     "execution_count": 12,
     "metadata": {},
     "output_type": "execute_result"
    }
   ],
   "source": [
    "tree = DecisionTreeClassifier(max_depth=5, criterion='gini', random_state=42)\n",
    "tree.fit(X_train,\n",
    "         y_train)\n"
   ]
  },
  {
   "cell_type": "code",
   "execution_count": 13,
   "id": "f4f41805",
   "metadata": {},
   "outputs": [],
   "source": [
    "predict = tree.predict(X_test)"
   ]
  },
  {
   "cell_type": "code",
   "execution_count": 15,
   "id": "f0a1194d",
   "metadata": {},
   "outputs": [
    {
     "name": "stdout",
     "output_type": "stream",
     "text": [
      "0.7796052631578947\n"
     ]
    }
   ],
   "source": [
    "accuracy = sum(predict == y_test) / len(predict)\n",
    "\n",
    "print(accuracy)"
   ]
  },
  {
   "cell_type": "markdown",
   "id": "b7ed0bac",
   "metadata": {},
   "source": [
    "##### Следующий и последний этап - построениие случайного леса и оценка OOB"
   ]
  },
  {
   "cell_type": "code",
   "execution_count": 19,
   "id": "b9ce2b91",
   "metadata": {},
   "outputs": [
    {
     "data": {
      "text/plain": [
       "RandomForestClassifier(max_depth=5, random_state=42)"
      ]
     },
     "execution_count": 19,
     "metadata": {},
     "output_type": "execute_result"
    }
   ],
   "source": [
    "from sklearn.ensemble import RandomForestClassifier\n",
    "rf = RandomForestClassifier(n_estimators=100, max_depth=5, criterion='gini', random_state=42)\n",
    "rf.fit(X_train, y_train)"
   ]
  },
  {
   "cell_type": "code",
   "execution_count": 17,
   "id": "52049413",
   "metadata": {},
   "outputs": [],
   "source": [
    "predict_rf = rf.predict(X_test)"
   ]
  },
  {
   "cell_type": "code",
   "execution_count": 18,
   "id": "dbb18f99",
   "metadata": {},
   "outputs": [
    {
     "name": "stdout",
     "output_type": "stream",
     "text": [
      "0.7828947368421053\n"
     ]
    }
   ],
   "source": [
    "accuracy = sum(predict_rf == y_test) / len(predict)\n",
    "\n",
    "print(accuracy)"
   ]
  },
  {
   "cell_type": "code",
   "execution_count": 117,
   "id": "359e80d3",
   "metadata": {},
   "outputs": [
    {
     "data": {
      "image/png": "[encoded data removed]",
      "text/plain": [
       "<Figure size 432x288 with 1 Axes>"
      ]
     },
     "metadata": {
      "needs_background": "light"
     },
     "output_type": "display_data"
    }
   ],
   "source": [
    "from collections import OrderedDict\n",
    "from sklearn.datasets import make_classification\n",
    "import warnings\n",
    "warnings.filterwarnings('ignore')\n",
    "\n",
    "ensemble_clfs = [\n",
    "    (\"RandomForestClassifier, max_features='log2'\",\n",
    "        RandomForestClassifier(warm_start=True, max_features='log2',\n",
    "                               oob_score=True, random_state=42)),\n",
    "    (\"RandomForestClassifier, max_features=None\",\n",
    "        RandomForestClassifier(warm_start=True, max_features=None,\n",
    "                               oob_score=True, random_state=42)) ]\n",
    "\n",
    "\n",
    "error_rate = OrderedDict((label, []) for label, _ in ensemble_clfs)\n",
    "\n",
    "min_estimators = 15\n",
    "max_estimators = 175\n",
    "\n",
    "for label, clf in ensemble_clfs:\n",
    "    for i in range(min_estimators, max_estimators + 1):\n",
    "        clf.set_params(n_estimators=i)\n",
    "        clf.fit(X_train, y_train)\n",
    "\n",
    "        oob_error = 1 - clf.oob_score_\n",
    "        error_rate[label].append((i, oob_error))\n",
    "\n",
    "for label, clf_err in error_rate.items():\n",
    "    xs, ys = zip(*clf_err)\n",
    "    plt.plot(xs, ys, label=label)\n",
    "\n",
    "plt.xlim(min_estimators, max_estimators)\n",
    "plt.xlabel(\"n_estimators\")\n",
    "plt.ylabel(\"OOB error rate\")\n",
    "plt.legend(loc=\"upper right\")\n",
    "plt.show()"
   ]
  },
  {
   "cell_type": "code",
   "execution_count": null,
   "id": "a5a9483c",
   "metadata": {},
   "outputs": [],
   "source": []
  }
 ],
 "metadata": {
  "kernelspec": {
   "display_name": "Python 3 (ipykernel)",
   "language": "python",
   "name": "python3"
  },
  "language_info": {
   "codemirror_mode": {
    "name": "ipython",
    "version": 3
   },
   "file_extension": ".py",
   "mimetype": "text/x-python",
   "name": "python",
   "nbconvert_exporter": "python",
   "pygments_lexer": "ipython3",
   "version": "3.9.5"
  }
 },
 "nbformat": 4,
 "nbformat_minor": 5
}
